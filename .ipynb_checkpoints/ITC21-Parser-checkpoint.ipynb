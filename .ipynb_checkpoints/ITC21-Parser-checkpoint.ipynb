{
 "cells": [
  {
   "cell_type": "code",
   "execution_count": 29,
   "metadata": {
    "ExecuteTime": {
     "end_time": "2021-04-11T20:43:07.525720Z",
     "start_time": "2021-04-11T20:43:07.501824Z"
    }
   },
   "outputs": [
    {
     "name": "stdout",
     "output_type": "stream",
     "text": [
      "The autoreload extension is already loaded. To reload it, use:\n",
      "  %reload_ext autoreload\n"
     ]
    }
   ],
   "source": [
    "%load_ext autoreload\n",
    "%autoreload 2\n",
    "\n",
    "from lxml import etree as et\n",
    "import pprint\n",
    "\n",
    "import itertools\n",
    "\n",
    "from Capacity_constraints import CA1, CA2, CA3, CA4\n",
    "from Game_constraints import GA1\n",
    "from Break_constraints import BR1, BR2\n",
    "from Fairness_constraints import FA2\n",
    "from Seperation_constraints import SE1\n",
    "\n",
    "pp = pprint.PrettyPrinter(indent=4, compact=True)\n",
    "\n",
    "root = et.parse(\"data/TestInstances_V3/ITC2021_Test1.xml\")"
   ]
  },
  {
   "cell_type": "code",
   "execution_count": 30,
   "metadata": {
    "ExecuteTime": {
     "end_time": "2021-04-11T20:43:07.999348Z",
     "start_time": "2021-04-11T20:43:07.991791Z"
    },
    "code_folding": [
     0
    ]
   },
   "outputs": [],
   "source": [
    "def parseTeams(root):\n",
    "    nb_teams = len(root.findall(\".//Teams/team\"))\n",
    "    nb_slots = len(root.findall(\".//Slots/slot\"))\n",
    "\n",
    "    is_game_mode_phased = True if root.find(\".//gameMode\").text == \"P\" else False\n",
    "\n",
    "    all_teams = list(range(nb_teams))\n",
    "    all_slots = list(range(nb_slots))\n",
    "    \n",
    "    return all_slots, all_teams, is_game_mode_phased"
   ]
  },
  {
   "cell_type": "code",
   "execution_count": 31,
   "metadata": {
    "ExecuteTime": {
     "end_time": "2021-04-11T20:43:08.370678Z",
     "start_time": "2021-04-11T20:43:08.362802Z"
    }
   },
   "outputs": [],
   "source": [
    "all_slots, all_teams, is_game_mode_phased = parseTeams(root)"
   ]
  },
  {
   "cell_type": "code",
   "execution_count": 32,
   "metadata": {
    "ExecuteTime": {
     "end_time": "2021-04-11T20:43:08.841318Z",
     "start_time": "2021-04-11T20:43:08.819325Z"
    },
    "code_folding": [
     0
    ]
   },
   "outputs": [],
   "source": [
    "def parseCapacityConstraints(root):\n",
    "    \"\"\"\n",
    "        Return the capacity constraints defined on the teams\n",
    "    \"\"\"\n",
    "    Hard_constraints = {\"CA1\": [], \"CA2\": [], \"CA3\": [], \"CA4\": []}\n",
    "    Soft_constraints = {\"CA1\": [], \"CA2\": [], \"CA3\": [], \"CA4\": []}\n",
    "\n",
    "    for CA1_element in root.findall(\".//CapacityConstraints/CA1\"):\n",
    "    \n",
    "        team_id = int(CA1_element.get(\"teams\"))\n",
    "        slots = list(map(int,CA1_element.get(\"slots\").split(\";\")))\n",
    "        mode_game = CA1_element.get(\"mode\")\n",
    "        min_d = int(CA1_element.get(\"min\")) if CA1_element.get(\"min\") is not None else 0\n",
    "        max_d = int(CA1_element.get(\"max\"))\n",
    "        const_type = CA1_element.get(\"type\")\n",
    "        \n",
    "        penalty = int(CA1_element.get(\"penalty\")) if CA1_element.get(\"penalty\") is not None else 0\n",
    "        \n",
    "        const = CA1(team_id,slots,mode_game,min_d, max_d, penalty)\n",
    "\n",
    "        if const_type == \"HARD\":\n",
    "            Hard_constraints[\"CA1\"].append(const)\n",
    "        else:\n",
    "            Soft_constraints[\"CA1\"].append(const)\n",
    "        \n",
    "    for CA2_element in root.findall(\".//CapacityConstraints/CA2\"):\n",
    "    \n",
    "        team_1_id = int(CA2_element.get(\"teams1\"))\n",
    "        teams_2_ids = list(map(int,CA2_element.get(\"teams2\").split(\";\")))\n",
    "        slots = list(map(int,CA2_element.get(\"slots\").split(\";\")))\n",
    "        mode_game = CA2_element.get(\"mode\")\n",
    "        min_d = int(CA2_element.get(\"min\")) if CA2_element.get(\"min\") is not None else 0\n",
    "        max_d = int(CA2_element.get(\"max\"))\n",
    "        const_type = CA2_element.get(\"type\")\n",
    "        \n",
    "        penalty = int(CA2_element.get(\"penalty\")) if CA2_element.get(\"penalty\") is not None else 0\n",
    "        \n",
    "        const = CA2(team_1_id, teams_2_ids, slots, mode_game, min_d, max_d, penalty)\n",
    "\n",
    "        if const_type == \"HARD\":\n",
    "            Hard_constraints[\"CA2\"].append(const)\n",
    "        else:\n",
    "            Soft_constraints[\"CA2\"].append(const)\n",
    "    \n",
    "    for CA3_element in root.findall(\".//CapacityConstraints/CA3\"):\n",
    "    \n",
    "        teams_1_ids = list(map(int,CA3_element.get(\"teams1\").split(\";\")))\n",
    "        teams_2_ids = list(map(int,CA3_element.get(\"teams2\").split(\";\")))\n",
    "        mode_game = CA3_element.get(\"mode\")\n",
    "        intp = int(CA3_element.get(\"intp\"))\n",
    "        const_type = CA3_element.get(\"type\")\n",
    "        \n",
    "        penalty = int(CA3_element.get(\"penalty\")) if CA3_element.get(\"penalty\") is not None else 0\n",
    "        \n",
    "        for team_1_id in teams_1_ids:\n",
    "            \n",
    "            const = CA3(team_1_id, teams_2_ids, mode_game, intp, penalty)\n",
    "\n",
    "            if const_type == \"HARD\":\n",
    "                Hard_constraints[\"CA3\"].append(const)\n",
    "            else:\n",
    "                Soft_constraints[\"CA3\"].append(const)\n",
    "    \n",
    "    for CA4_element in root.findall(\".//CapacityConstraints/CA4\"):\n",
    "    \n",
    "        teams_1 = list(map(int,CA4_element.get(\"teams1\").split(\";\")))\n",
    "        teams_2 = list(map(int,CA4_element.get(\"teams2\").split(\";\")))\n",
    "        slots = list(map(int,CA4_element.get(\"slots\").split(\";\")))\n",
    "        mode_game = CA4_element.get(\"mode1\")\n",
    "        mode_const = CA4_element.get(\"mode2\")\n",
    "        min_d = int(CA4_element.get(\"min\")) if CA4_element.get(\"min\") is not None else 0\n",
    "        max_d = int(CA4_element.get(\"max\"))\n",
    "        const_type = CA4_element.get(\"type\")\n",
    "        \n",
    "        penalty = int(CA4_element.get(\"penalty\")) if CA4_element.get(\"penalty\") is not None else 0\n",
    "        \n",
    "        const = CA4(teams_1, teams_2, slots, mode_game, mode_const, min_d, max_d, penalty)\n",
    "\n",
    "        if const_type == \"HARD\":\n",
    "            Hard_constraints[\"CA4\"].append(const)\n",
    "        else:\n",
    "            Soft_constraints[\"CA4\"].append(const)\n",
    "    \n",
    "    return Hard_constraints, Soft_constraints\n"
   ]
  },
  {
   "cell_type": "code",
   "execution_count": 33,
   "metadata": {
    "ExecuteTime": {
     "end_time": "2021-04-11T20:43:09.454899Z",
     "start_time": "2021-04-11T20:43:09.447691Z"
    }
   },
   "outputs": [],
   "source": [
    "CA_Hard_constraints, CA_Soft_constraints = parseCapacityConstraints(root)"
   ]
  },
  {
   "cell_type": "code",
   "execution_count": 34,
   "metadata": {
    "ExecuteTime": {
     "end_time": "2021-04-11T20:43:10.900402Z",
     "start_time": "2021-04-11T20:43:10.889514Z"
    },
    "code_folding": []
   },
   "outputs": [],
   "source": [
    "def parseGameConstraints(root):\n",
    "    \"\"\"\n",
    "        Parse the game constraints defined on Teams\n",
    "    \"\"\"\n",
    "    Hard_constraints = {\"GA1\": []}\n",
    "    Soft_constraints = {\"GA1\": []}\n",
    "\n",
    "    for GA1_element in root.findall(\".//GameConstraints/GA1\"):\n",
    "    \n",
    "        meetings = GA1_element.get(\"meetings\").split(\";\")\n",
    "        slots = list(map(int,GA1_element.get(\"slots\").split(\";\")))\n",
    "        min_d = int(GA1_element.get(\"min\")) if GA1_element.get(\"min\") is not None else 0\n",
    "        max_d = int(GA1_element.get(\"max\"))\n",
    "        const_type = GA1_element.get(\"type\")\n",
    "        \n",
    "        penalty = int(GA1_element.get(\"penalty\")) if GA1_element.get(\"penalty\") is not None else 0\n",
    "                \n",
    "        const = GA1(meetings, slots, min_d, max_d, penalty)\n",
    "\n",
    "        if const_type == \"HARD\":\n",
    "            Hard_constraints[\"GA1\"].append(const)\n",
    "        else:\n",
    "            Soft_constraints[\"GA1\"].append(const)\n",
    "    \n",
    "    return Hard_constraints, Soft_constraints"
   ]
  },
  {
   "cell_type": "code",
   "execution_count": 35,
   "metadata": {
    "ExecuteTime": {
     "end_time": "2021-04-11T20:43:11.533796Z",
     "start_time": "2021-04-11T20:43:11.527192Z"
    }
   },
   "outputs": [],
   "source": [
    "GA_Hard_constraints, GA_Soft_constraints = parseGameConstraints(root)"
   ]
  },
  {
   "cell_type": "code",
   "execution_count": 38,
   "metadata": {
    "ExecuteTime": {
     "end_time": "2021-04-11T20:43:43.928757Z",
     "start_time": "2021-04-11T20:43:43.920006Z"
    }
   },
   "outputs": [
    {
     "data": {
      "text/plain": [
       "[\"GA1: At least 0 and at most 1 games ['2,1', '3,2', '4,5', ''] can be played on slots [7, 8, 1] \",\n",
       " \"GA1: At least 0 and at most 2 games ['0,5', '1,3', '4,0', '5,0', ''] can be played on slots [2, 3, 7, 0] \",\n",
       " \"GA1: At least 0 and at most 2 games ['0,1', '0,4', '1,5', '3,4', ''] can be played on slots [9, 7, 1, 0] \",\n",
       " \"GA1: At least 0 and at most 1 games ['1,5', '3,1', '5,4', ''] can be played on slots [9, 5, 8] \",\n",
       " \"GA1: At least 0 and at most 1 games ['1,5', '3,0', '5,1', ''] can be played on slots [3, 6, 1] \"]"
      ]
     },
     "execution_count": 38,
     "metadata": {},
     "output_type": "execute_result"
    }
   ],
   "source": [
    "list(map(str,GA_Hard_constraints[\"GA1\"]))"
   ]
  },
  {
   "cell_type": "code",
   "execution_count": 8,
   "metadata": {
    "ExecuteTime": {
     "end_time": "2021-04-11T19:25:05.155565Z",
     "start_time": "2021-04-11T19:25:05.142343Z"
    },
    "code_folding": []
   },
   "outputs": [],
   "source": [
    "def parseBreakConstraints(root):\n",
    "    \"\"\"\n",
    "        Parse the break constraints defined on teams\n",
    "    \"\"\"\n",
    "    Hard_constraints = {\"BR1\": [], \"BR2\": []}\n",
    "    Soft_constraints = {\"BR1\": [], \"BR2\": []}\n",
    "    \n",
    "    for BR1_element in root.findall(\".//BreakConstraints/BR1\"):\n",
    "    \n",
    "        team_id = int(BR1_element.get(\"teams\"))\n",
    "        slots = list(map(int,BR1_element.get(\"slots\").split(\";\")))\n",
    "        mode_game = BR1_element.get(\"mode\")\n",
    "        intp = int(BR1_element.get(\"intp\"))\n",
    "        const_type = BR1_element.get(\"type\")\n",
    "        \n",
    "        penalty = int(BR1_element.get(\"penalty\")) if BR1_element.get(\"penalty\") is not None else 0\n",
    "        \n",
    "        const = BR1(team_id,slots,mode_game, intp, penalty)\n",
    "\n",
    "        if const_type == \"HARD\":\n",
    "            Hard_constraints[\"BR1\"].append(const)\n",
    "        else:\n",
    "            Soft_constraints[\"BR1\"].append(const)\n",
    "    \n",
    "    for BR2_element in root.findall(\".//BreakConstraints/BR2\"):\n",
    "    \n",
    "        teams = list(map(int,BR2_element.get(\"teams\").split(\";\")))\n",
    "        slots = list(map(int,BR2_element.get(\"slots\").split(\";\")))\n",
    "        intp = int(BR2_element.get(\"intp\"))\n",
    "        const_type = BR2_element.get(\"type\")\n",
    "        \n",
    "        penalty = int(BR2_element.get(\"penalty\")) if BR2_element.get(\"penalty\") is not None else 0\n",
    "        \n",
    "        const = BR2(teams,slots, intp, penalty)\n",
    "\n",
    "        if const_type == \"HARD\":\n",
    "            Hard_constraints[\"BR2\"].append(const)\n",
    "        else:\n",
    "            Soft_constraints[\"BR2\"].append(const)\n",
    "    \n",
    "    return Hard_constraints, Soft_constraints"
   ]
  },
  {
   "cell_type": "code",
   "execution_count": 9,
   "metadata": {
    "ExecuteTime": {
     "end_time": "2021-04-11T19:25:05.307793Z",
     "start_time": "2021-04-11T19:25:05.301698Z"
    }
   },
   "outputs": [],
   "source": [
    "BR_Hard_constraints, BR_Soft_constraints =  parseBreakConstraints(root)"
   ]
  },
  {
   "cell_type": "code",
   "execution_count": 10,
   "metadata": {
    "ExecuteTime": {
     "end_time": "2021-04-11T19:25:05.472517Z",
     "start_time": "2021-04-11T19:25:05.462647Z"
    },
    "code_folding": []
   },
   "outputs": [],
   "source": [
    "def parseFairnessConstraints(root):\n",
    "    \"\"\"\n",
    "        Parse the fairness constraints defined on pairs of teams\n",
    "    \"\"\"\n",
    "    Hard_constraints = {\"FA2\": []}\n",
    "    Soft_constraints = {\"FA2\": []}\n",
    "    \n",
    "    for FA2_element in root.findall(\".//FairnessConstraints/FA2\"):\n",
    "        \n",
    "        teams = list(map(int,FA2_element.get(\"teams\").split(\";\")))\n",
    "        slots = list(map(int,FA2_element.get(\"slots\").split(\";\")))\n",
    "        intp = int(FA2_element.get(\"intp\"))\n",
    "        const_type = FA2_element.get(\"type\")\n",
    "        \n",
    "        penalty = int(FA2_element.get(\"penalty\")) if FA2_element.get(\"penalty\") is not None else 0\n",
    "        \n",
    "        all_pairs = list(itertools.combinations(teams, 2))\n",
    "        for pair in all_pairs:\n",
    "            const = FA2(pair, slots, intp, penalty)\n",
    "\n",
    "            if const_type == \"HARD\":\n",
    "                Hard_constraints[\"FA2\"].append(const)\n",
    "            else:\n",
    "                Soft_constraints[\"FA2\"].append(const)\n",
    "    \n",
    "    return Hard_constraints, Soft_constraints"
   ]
  },
  {
   "cell_type": "code",
   "execution_count": 11,
   "metadata": {
    "ExecuteTime": {
     "end_time": "2021-04-11T19:25:05.626123Z",
     "start_time": "2021-04-11T19:25:05.618046Z"
    }
   },
   "outputs": [],
   "source": [
    "FA_Hard_constraints, FA_Soft_constraints =  parseFairnessConstraints(root)"
   ]
  },
  {
   "cell_type": "code",
   "execution_count": 12,
   "metadata": {
    "ExecuteTime": {
     "end_time": "2021-04-11T19:25:05.798962Z",
     "start_time": "2021-04-11T19:25:05.789148Z"
    },
    "code_folding": []
   },
   "outputs": [],
   "source": [
    "def parseSeperationConstraints(root):\n",
    "    \"\"\"\n",
    "        Parse the seperation constraints defined on pairs of teams\n",
    "    \"\"\"\n",
    "    \n",
    "    Hard_constraints = {\"SE1\": []}\n",
    "    Soft_constraints = {\"SE1\": []}\n",
    "    \n",
    "    for SE1_element in root.findall(\".//SeparationConstraints/SE1\"):\n",
    "        \n",
    "        teams = list(map(int,SE1_element.get(\"teams\").split(\";\")))\n",
    "        min_d = int(SE1_element.get(\"min\")) if SE1_element.get(\"min\") is not None else 0\n",
    "        const_type = SE1_element.get(\"type\")\n",
    "        \n",
    "        penalty = int(SE1_element.get(\"penalty\")) if SE1_element.get(\"penalty\") is not None else 0\n",
    "        \n",
    "        all_pairs = list(itertools.combinations(teams, 2))\n",
    "        for pair in all_pairs:\n",
    "            const = SE1(pair, min_d, penalty)\n",
    "\n",
    "            if const_type == \"HARD\":\n",
    "                Hard_constraints[\"SE1\"].append(const)\n",
    "            else:\n",
    "                Soft_constraints[\"SE1\"].append(const)\n",
    "    \n",
    "    return Hard_constraints, Soft_constraints"
   ]
  },
  {
   "cell_type": "code",
   "execution_count": 13,
   "metadata": {
    "ExecuteTime": {
     "end_time": "2021-04-11T19:25:05.967505Z",
     "start_time": "2021-04-11T19:25:05.958504Z"
    }
   },
   "outputs": [],
   "source": [
    "SE_Hard_constraints, SE_Soft_constraints = parseSeperationConstraints(root)"
   ]
  },
  {
   "cell_type": "code",
   "execution_count": 14,
   "metadata": {
    "ExecuteTime": {
     "end_time": "2021-04-11T19:25:06.525597Z",
     "start_time": "2021-04-11T19:25:06.515239Z"
    }
   },
   "outputs": [],
   "source": [
    "def parseITC(fname):\n",
    "    \"\"\"\n",
    "        API method to parse all data and constraints of an ITC instance\n",
    "    \"\"\"\n",
    "    \n",
    "    # Read the xml file\n",
    "    root = et.parse(fname)\n",
    "    \n",
    "    Hard_constraints = {}\n",
    "    Soft_constraints = {}\n",
    "    \n",
    "    # Get information about Teams, slots and the games\n",
    "    all_slots, all_teams, is_game_mode_phased = parseTeams(root)\n",
    "    Game_infos = {\"all_slots\": all_slots, \"all_teams\": all_teams, \"is_game_mode_phased\": is_game_mode_phased}\n",
    "    \n",
    "    # Capacity constraints\n",
    "    CA_Hard_constraints, CA_Soft_constraints = parseCapacityConstraints(root)\n",
    "    Hard_constraints[\"CA\"] = CA_Hard_constraints\n",
    "    Soft_constraints[\"CA\"] = CA_Soft_constraints\n",
    "    \n",
    "    # Game constraints\n",
    "    GA_Hard_constraints, GA_Soft_constraints = parseGameConstraints(root)\n",
    "    Hard_constraints[\"GA\"] = GA_Hard_constraints\n",
    "    Soft_constraints[\"GA\"] = GA_Soft_constraints\n",
    "    \n",
    "    # Break constraints\n",
    "    BR_Hard_constraints, BR_Soft_constraints =  parseBreakConstraints(root)\n",
    "    Hard_constraints[\"BR\"] = BR_Hard_constraints\n",
    "    Soft_constraints[\"BR\"] = BR_Soft_constraints\n",
    "    \n",
    "    # Fairness constraints\n",
    "    FA_Hard_constraints, FA_Soft_constraints =  parseFairnessConstraints(root)\n",
    "    Hard_constraints[\"FA\"] = FA_Hard_constraints\n",
    "    Soft_constraints[\"FA\"] = FA_Soft_constraints\n",
    "    \n",
    "    # Separation constraints\n",
    "    SE_Hard_constraints, SE_Soft_constraints = parseSeperationConstraints(root)\n",
    "    Hard_constraints[\"SE\"] = SE_Hard_constraints\n",
    "    Soft_constraints[\"SE\"] = SE_Soft_constraints\n",
    "    \n",
    "    return Game_infos, Hard_constraints, Soft_constraints"
   ]
  },
  {
   "cell_type": "code",
   "execution_count": 15,
   "metadata": {
    "ExecuteTime": {
     "end_time": "2021-04-11T19:25:07.186581Z",
     "start_time": "2021-04-11T19:25:07.176880Z"
    }
   },
   "outputs": [],
   "source": [
    "Game_infos, Hard_constraints, Soft_constraints = parseITC(\"data/TestInstances_V3/ITC2021_Test1.xml\")"
   ]
  },
  {
   "cell_type": "code",
   "execution_count": 18,
   "metadata": {
    "ExecuteTime": {
     "end_time": "2021-04-11T19:51:20.244639Z",
     "start_time": "2021-04-11T19:51:20.237080Z"
    }
   },
   "outputs": [
    {
     "data": {
      "text/plain": [
       "{'all_slots': [0, 1, 2, 3, 4, 5, 6, 7, 8, 9],\n",
       " 'all_teams': [0, 1, 2, 3, 4, 5],\n",
       " 'is_game_mode_phased': True}"
      ]
     },
     "execution_count": 18,
     "metadata": {},
     "output_type": "execute_result"
    }
   ],
   "source": [
    "Game_infos"
   ]
  },
  {
   "cell_type": "code",
   "execution_count": 17,
   "metadata": {
    "ExecuteTime": {
     "end_time": "2021-04-11T19:25:23.329700Z",
     "start_time": "2021-04-11T19:25:23.315875Z"
    }
   },
   "outputs": [
    {
     "data": {
      "text/plain": [
       "{'CA': {'CA1': [<Capacity_constraints.CA1 at 0x7fea7acf4fd0>,\n",
       "   <Capacity_constraints.CA1 at 0x7fea7aece550>,\n",
       "   <Capacity_constraints.CA1 at 0x7fea7aece100>,\n",
       "   <Capacity_constraints.CA1 at 0x7fea7aece130>,\n",
       "   <Capacity_constraints.CA1 at 0x7fea7aece460>,\n",
       "   <Capacity_constraints.CA1 at 0x7fea7aece4c0>,\n",
       "   <Capacity_constraints.CA1 at 0x7fea7aece340>,\n",
       "   <Capacity_constraints.CA1 at 0x7fea7aece310>,\n",
       "   <Capacity_constraints.CA1 at 0x7fea88094af0>,\n",
       "   <Capacity_constraints.CA1 at 0x7fea7aece0a0>,\n",
       "   <Capacity_constraints.CA1 at 0x7fea7aee8b80>,\n",
       "   <Capacity_constraints.CA1 at 0x7fea7aee8760>,\n",
       "   <Capacity_constraints.CA1 at 0x7fea7aee8c70>,\n",
       "   <Capacity_constraints.CA1 at 0x7fea7ae72d90>,\n",
       "   <Capacity_constraints.CA1 at 0x7fea7ae72d60>,\n",
       "   <Capacity_constraints.CA1 at 0x7fea7ae72610>,\n",
       "   <Capacity_constraints.CA1 at 0x7fea7ae72460>],\n",
       "  'CA2': [],\n",
       "  'CA3': [<Capacity_constraints.CA3 at 0x7fea7ae72250>,\n",
       "   <Capacity_constraints.CA3 at 0x7fea7ae72df0>,\n",
       "   <Capacity_constraints.CA3 at 0x7fea7ae723d0>,\n",
       "   <Capacity_constraints.CA3 at 0x7fea7ae72c10>,\n",
       "   <Capacity_constraints.CA3 at 0x7fea7ae72310>,\n",
       "   <Capacity_constraints.CA3 at 0x7fea7ae72f10>,\n",
       "   <Capacity_constraints.CA3 at 0x7fea7ae72670>,\n",
       "   <Capacity_constraints.CA3 at 0x7fea7ae72550>,\n",
       "   <Capacity_constraints.CA3 at 0x7fea7ae72070>,\n",
       "   <Capacity_constraints.CA3 at 0x7fea7ae72a90>,\n",
       "   <Capacity_constraints.CA3 at 0x7fea7ae72fa0>,\n",
       "   <Capacity_constraints.CA3 at 0x7fea7ae72d30>,\n",
       "   <Capacity_constraints.CA3 at 0x7fea7ae721c0>,\n",
       "   <Capacity_constraints.CA3 at 0x7fea7ae725e0>,\n",
       "   <Capacity_constraints.CA3 at 0x7fea7ae72880>,\n",
       "   <Capacity_constraints.CA3 at 0x7fea7ae72190>],\n",
       "  'CA4': []},\n",
       " 'GA': {'GA1': [<Game_constraints.GA1 at 0x7fea7afa8f70>,\n",
       "   <Game_constraints.GA1 at 0x7fea7ab41d30>,\n",
       "   <Game_constraints.GA1 at 0x7fea7ab41e20>,\n",
       "   <Game_constraints.GA1 at 0x7fea7ab41d60>,\n",
       "   <Game_constraints.GA1 at 0x7fea7ab41370>,\n",
       "   <Game_constraints.GA1 at 0x7fea7ab41310>,\n",
       "   <Game_constraints.GA1 at 0x7fea7ab41400>,\n",
       "   <Game_constraints.GA1 at 0x7fea7ab410a0>,\n",
       "   <Game_constraints.GA1 at 0x7fea7ab41f40>,\n",
       "   <Game_constraints.GA1 at 0x7fea7ab41040>,\n",
       "   <Game_constraints.GA1 at 0x7fea7ab41dc0>,\n",
       "   <Game_constraints.GA1 at 0x7fea7ab412e0>,\n",
       "   <Game_constraints.GA1 at 0x7fea7ab41280>,\n",
       "   <Game_constraints.GA1 at 0x7fea7ab41340>,\n",
       "   <Game_constraints.GA1 at 0x7fea7ae23a90>,\n",
       "   <Game_constraints.GA1 at 0x7fea7ae236a0>,\n",
       "   <Game_constraints.GA1 at 0x7fea7ae23490>,\n",
       "   <Game_constraints.GA1 at 0x7fea7ae23ca0>,\n",
       "   <Game_constraints.GA1 at 0x7fea7ae23d00>,\n",
       "   <Game_constraints.GA1 at 0x7fea7ae238e0>,\n",
       "   <Game_constraints.GA1 at 0x7fea7ae235e0>,\n",
       "   <Game_constraints.GA1 at 0x7fea7ae23cd0>,\n",
       "   <Game_constraints.GA1 at 0x7fea7ae23f10>,\n",
       "   <Game_constraints.GA1 at 0x7fea7ae23790>,\n",
       "   <Game_constraints.GA1 at 0x7fea7ae23940>,\n",
       "   <Game_constraints.GA1 at 0x7fea7ae23f40>]},\n",
       " 'BR': {'BR1': [], 'BR2': []},\n",
       " 'FA': {'FA2': []},\n",
       " 'SE': {'SE1': [<Seperation_constraints.SE1 at 0x7fea7ae23d60>,\n",
       "   <Seperation_constraints.SE1 at 0x7fea7ae23dc0>,\n",
       "   <Seperation_constraints.SE1 at 0x7fea7ae23eb0>,\n",
       "   <Seperation_constraints.SE1 at 0x7fea7ae23f70>,\n",
       "   <Seperation_constraints.SE1 at 0x7fea7ae23370>,\n",
       "   <Seperation_constraints.SE1 at 0x7fea7ae23280>,\n",
       "   <Seperation_constraints.SE1 at 0x7fea7ae23a00>,\n",
       "   <Seperation_constraints.SE1 at 0x7fea7ae23e50>,\n",
       "   <Seperation_constraints.SE1 at 0x7fea7ae23400>,\n",
       "   <Seperation_constraints.SE1 at 0x7fea7ae232b0>,\n",
       "   <Seperation_constraints.SE1 at 0x7fea7ae23520>,\n",
       "   <Seperation_constraints.SE1 at 0x7fea7ae2d160>,\n",
       "   <Seperation_constraints.SE1 at 0x7fea7ae2d0d0>,\n",
       "   <Seperation_constraints.SE1 at 0x7fea7ae2d040>,\n",
       "   <Seperation_constraints.SE1 at 0x7fea7abbaa00>]}}"
      ]
     },
     "execution_count": 17,
     "metadata": {},
     "output_type": "execute_result"
    }
   ],
   "source": [
    "Soft_constraints"
   ]
  },
  {
   "cell_type": "code",
   "execution_count": null,
   "metadata": {},
   "outputs": [],
   "source": []
  }
 ],
 "metadata": {
  "kernelspec": {
   "display_name": "Python 3",
   "language": "python",
   "name": "python3"
  },
  "language_info": {
   "codemirror_mode": {
    "name": "ipython",
    "version": 3
   },
   "file_extension": ".py",
   "mimetype": "text/x-python",
   "name": "python",
   "nbconvert_exporter": "python",
   "pygments_lexer": "ipython3",
   "version": "3.8.5"
  }
 },
 "nbformat": 4,
 "nbformat_minor": 4
}
