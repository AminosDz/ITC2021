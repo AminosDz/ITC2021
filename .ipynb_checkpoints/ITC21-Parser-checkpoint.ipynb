{
 "cells": [
  {
   "cell_type": "code",
   "execution_count": 36,
   "metadata": {
    "ExecuteTime": {
     "end_time": "2021-04-10T13:18:22.256119Z",
     "start_time": "2021-04-10T13:18:22.245326Z"
    }
   },
   "outputs": [
    {
     "name": "stdout",
     "output_type": "stream",
     "text": [
      "The autoreload extension is already loaded. To reload it, use:\n",
      "  %reload_ext autoreload\n"
     ]
    }
   ],
   "source": [
    "%load_ext autoreload\n",
    "%autoreload 2\n",
    "\n",
    "from lxml import etree as et\n",
    "from datetime import datetime, timedelta\n",
    "import pprint\n",
    "\n",
    "from Capacity_constraints import CA1, CA2, CA3, CA4\n",
    "\n",
    "pp = pprint.PrettyPrinter(indent=4, compact=True)\n",
    "\n",
    "root = et.parse(\"data/TestInstances_V3/ITC2021_Test1.xml\")"
   ]
  },
  {
   "cell_type": "code",
   "execution_count": 44,
   "metadata": {
    "ExecuteTime": {
     "end_time": "2021-04-10T13:19:13.173279Z",
     "start_time": "2021-04-10T13:19:13.163876Z"
    }
   },
   "outputs": [],
   "source": [
    "def parseTeams(root)\n",
    "    nb_teams = len(root.findall(\".//Teams/team\"))\n",
    "    nb_slots = len(root.findall(\".//Slots/slot\"))\n",
    "\n",
    "    is_game_mode_phased = 1 if root.find(\".//gameMode\").text == \"P\" else 0\n",
    "\n",
    "    all_teams = list(range(nb_teams))\n",
    "    all_slots = list(range(nb_slots))\n",
    "\n",
    "def parseCapacityConstraints(root):\n",
    "    \n",
    "    Hard_constraints = {\"CA1\": [], \"CA2\": [], \"CA3\": [], \"CA4\": []}\n",
    "    Soft_constraints = {\"CA1\": [], \"CA2\": [], \"CA3\": [], \"CA4\": []}\n",
    "\n",
    "    for CA1_element in root.findall(\".//CapacityConstraints/CA1\"):\n",
    "    \n",
    "        team_id = CA1_element.get(\"teams\")\n",
    "        slots = list(map(int,CA1_element.get(\"slots\").split(\";\")))\n",
    "        mode_game = CA1_element.get(\"mode\")\n",
    "        min_d = CA1_element.get(\"min\") if CA1_element.get(\"min\") is not None else 0\n",
    "        max_d = CA1_element.get(\"max\")\n",
    "        const_type = CA1_element.get(\"type\")\n",
    "    \n",
    "        const = CA1(team_id,slots,mode_game,min_d, max_d)\n",
    "\n",
    "        if const_type == \"HARD\":\n",
    "            Hard_constraints[\"CA1\"].append(const)\n",
    "        else:\n",
    "            Soft_constraints[\"CA1\"].append(const)\n",
    "        \n",
    "    for CA2_element in root.findall(\".//CapacityConstraints/CA2\"):\n",
    "    \n",
    "        team_1_id = CA1_element.get(\"teams1\")\n",
    "        team_1_id = CA1_element.get(\"teams2\")\n",
    "        slots = list(map(int,CA1_element.get(\"slots\").split(\";\")))\n",
    "        mode_game = CA1_element.get(\"mode\")\n",
    "        min_d = CA1_element.get(\"min\") if CA1_element.get(\"min\") is not None else 0\n",
    "        max_d = CA1_element.get(\"max\")\n",
    "        const_type = CA1_element.get(\"type\")\n",
    "    \n",
    "        const = CA2(team_1_id, team_2_id, slots, mode_game, min_d, max_d)\n",
    "\n",
    "        if const_type == \"HARD\":\n",
    "            Hard_constraints[\"CA2\"].append(const)\n",
    "        else:\n",
    "            Soft_constraints[\"CA2\"].append(const)\n",
    "    \n",
    "    \n"
   ]
  },
  {
   "cell_type": "code",
   "execution_count": 45,
   "metadata": {
    "ExecuteTime": {
     "end_time": "2021-04-10T13:19:13.635897Z",
     "start_time": "2021-04-10T13:19:13.628939Z"
    }
   },
   "outputs": [
    {
     "data": {
      "text/plain": [
       "1"
      ]
     },
     "execution_count": 45,
     "metadata": {},
     "output_type": "execute_result"
    }
   ],
   "source": [
    "is_game_mode_phased"
   ]
  },
  {
   "cell_type": "code",
   "execution_count": 48,
   "metadata": {
    "ExecuteTime": {
     "end_time": "2021-04-10T13:19:21.394266Z",
     "start_time": "2021-04-10T13:19:21.386556Z"
    }
   },
   "outputs": [
    {
     "data": {
      "text/plain": [
       "'0 can play at most 1 H games on slots [9, 6, 7] '"
      ]
     },
     "execution_count": 48,
     "metadata": {},
     "output_type": "execute_result"
    }
   ],
   "source": [
    "str(Hard_constraints[\"CA1\"][0])"
   ]
  },
  {
   "cell_type": "code",
   "execution_count": 4,
   "metadata": {
    "ExecuteTime": {
     "end_time": "2021-04-10T12:33:14.898644Z",
     "start_time": "2021-04-10T12:33:14.894835Z"
    }
   },
   "outputs": [
    {
     "data": {
      "text/plain": [
       "([0, 1, 2, 3, 4, 5], [0, 1, 2, 3, 4, 5, 6, 7, 8, 9])"
      ]
     },
     "execution_count": 4,
     "metadata": {},
     "output_type": "execute_result"
    }
   ],
   "source": [
    "all_teams, all_slots"
   ]
  },
  {
   "cell_type": "code",
   "execution_count": null,
   "metadata": {},
   "outputs": [],
   "source": []
  }
 ],
 "metadata": {
  "kernelspec": {
   "display_name": "Python 3",
   "language": "python",
   "name": "python3"
  },
  "language_info": {
   "codemirror_mode": {
    "name": "ipython",
    "version": 3
   },
   "file_extension": ".py",
   "mimetype": "text/x-python",
   "name": "python",
   "nbconvert_exporter": "python",
   "pygments_lexer": "ipython3",
   "version": "3.8.5"
  }
 },
 "nbformat": 4,
 "nbformat_minor": 4
}
