{
 "cells": [
  {
   "cell_type": "code",
   "execution_count": 2,
   "metadata": {
    "ExecuteTime": {
     "end_time": "2021-04-17T20:30:26.831314Z",
     "start_time": "2021-04-17T20:30:26.812222Z"
    }
   },
   "outputs": [],
   "source": [
    "%load_ext autoreload\n",
    "%autoreload 2\n",
    "\n",
    "from lxml import etree as et\n",
    "import pprint\n",
    "\n",
    "import itertools\n",
    "\n",
    "from Capacity_constraints import CA1, CA2, CA3, CA4\n",
    "from Game_constraints import GA1\n",
    "from Break_constraints import BR1, BR2\n",
    "from Fairness_constraints import FA2\n",
    "from Seperation_constraints import SE1\n",
    "\n",
    "pp = pprint.PrettyPrinter(indent=4, compact=True)\n",
    "\n",
    "root = et.parse(\"data/TestInstances_V3/ITC2021_Test1.xml\")"
   ]
  },
  {
   "cell_type": "code",
   "execution_count": 3,
   "metadata": {
    "ExecuteTime": {
     "end_time": "2021-04-17T20:30:27.012927Z",
     "start_time": "2021-04-17T20:30:27.004339Z"
    },
    "code_folding": [
     0
    ]
   },
   "outputs": [],
   "source": [
    "def parseTeams(root):\n",
    "    nb_teams = len(root.findall(\".//Teams/team\"))\n",
    "    nb_slots = len(root.findall(\".//Slots/slot\"))\n",
    "\n",
    "    is_game_mode_phased = True if root.find(\".//gameMode\").text == \"P\" else False\n",
    "\n",
    "    all_teams = list(range(nb_teams))\n",
    "    all_slots = list(range(nb_slots))\n",
    "    \n",
    "    return all_slots, all_teams, is_game_mode_phased"
   ]
  },
  {
   "cell_type": "code",
   "execution_count": 4,
   "metadata": {
    "ExecuteTime": {
     "end_time": "2021-04-17T20:30:27.164861Z",
     "start_time": "2021-04-17T20:30:27.155452Z"
    }
   },
   "outputs": [],
   "source": [
    "all_slots, all_teams, is_game_mode_phased = parseTeams(root)"
   ]
  },
  {
   "cell_type": "code",
   "execution_count": 5,
   "metadata": {
    "ExecuteTime": {
     "end_time": "2021-04-17T20:30:27.336413Z",
     "start_time": "2021-04-17T20:30:27.314944Z"
    },
    "code_folding": []
   },
   "outputs": [],
   "source": [
    "def parseCapacityConstraints(root):\n",
    "    \"\"\"\n",
    "        Return the capacity constraints defined on the teams\n",
    "    \"\"\"\n",
    "    Hard_constraints = {\"CA1\": [], \"CA2\": [], \"CA3\": [], \"CA4\": []}\n",
    "    Soft_constraints = {\"CA1\": [], \"CA2\": [], \"CA3\": [], \"CA4\": []}\n",
    "\n",
    "    for CA1_element in root.findall(\".//CapacityConstraints/CA1\"):\n",
    "    \n",
    "        team_id = int(CA1_element.get(\"teams\"))\n",
    "        slots = list(map(int,CA1_element.get(\"slots\").split(\";\")))\n",
    "        mode_game = CA1_element.get(\"mode\")\n",
    "        min_d = int(CA1_element.get(\"min\")) if CA1_element.get(\"min\") is not None else 0\n",
    "        max_d = int(CA1_element.get(\"max\"))\n",
    "        const_type = CA1_element.get(\"type\")\n",
    "        \n",
    "        penalty = int(CA1_element.get(\"penalty\")) if CA1_element.get(\"penalty\") is not None else 0\n",
    "        \n",
    "        const = CA1(team_id,slots,mode_game,min_d, max_d, penalty)\n",
    "\n",
    "        if const_type == \"HARD\":\n",
    "            Hard_constraints[\"CA1\"].append(const)\n",
    "        else:\n",
    "            Soft_constraints[\"CA1\"].append(const)\n",
    "        \n",
    "    for CA2_element in root.findall(\".//CapacityConstraints/CA2\"):\n",
    "    \n",
    "        team_1_id = int(CA2_element.get(\"teams1\"))\n",
    "        teams_2_ids = list(map(int,CA2_element.get(\"teams2\").split(\";\")))\n",
    "        slots = list(map(int,CA2_element.get(\"slots\").split(\";\")))\n",
    "        mode_game = CA2_element.get(\"mode1\")\n",
    "        min_d = int(CA2_element.get(\"min\")) if CA2_element.get(\"min\") is not None else 0\n",
    "        max_d = int(CA2_element.get(\"max\"))\n",
    "        const_type = CA2_element.get(\"type\")\n",
    "        \n",
    "        penalty = int(CA2_element.get(\"penalty\")) if CA2_element.get(\"penalty\") is not None else 0\n",
    "        \n",
    "        const = CA2(team_1_id, teams_2_ids, slots, mode_game, min_d, max_d, penalty)\n",
    "\n",
    "        if const_type == \"HARD\":\n",
    "            Hard_constraints[\"CA2\"].append(const)\n",
    "        else:\n",
    "            Soft_constraints[\"CA2\"].append(const)\n",
    "    \n",
    "    for CA3_element in root.findall(\".//CapacityConstraints/CA3\"):\n",
    "    \n",
    "        teams_1_ids = list(map(int,CA3_element.get(\"teams1\").split(\";\")))\n",
    "        teams_2_ids = list(map(int,CA3_element.get(\"teams2\").split(\";\")))\n",
    "        mode_game = CA3_element.get(\"mode1\")\n",
    "        intp = int(CA3_element.get(\"intp\"))\n",
    "        const_type = CA3_element.get(\"type\")\n",
    "        \n",
    "        penalty = int(CA3_element.get(\"penalty\")) if CA3_element.get(\"penalty\") is not None else 0\n",
    "        \n",
    "        for team_1_id in teams_1_ids:\n",
    "            \n",
    "            const = CA3(team_1_id, teams_2_ids, mode_game, intp, penalty)\n",
    "\n",
    "            if const_type == \"HARD\":\n",
    "                Hard_constraints[\"CA3\"].append(const)\n",
    "            else:\n",
    "                Soft_constraints[\"CA3\"].append(const)\n",
    "    \n",
    "    for CA4_element in root.findall(\".//CapacityConstraints/CA4\"):\n",
    "    \n",
    "        teams_1 = list(map(int,CA4_element.get(\"teams1\").split(\";\")))\n",
    "        teams_2 = list(map(int,CA4_element.get(\"teams2\").split(\";\")))\n",
    "        slots = list(map(int,CA4_element.get(\"slots\").split(\";\")))\n",
    "        mode_game = CA4_element.get(\"mode1\")\n",
    "        mode_const = CA4_element.get(\"mode2\")\n",
    "        min_d = int(CA4_element.get(\"min\")) if CA4_element.get(\"min\") is not None else 0\n",
    "        max_d = int(CA4_element.get(\"max\"))\n",
    "        const_type = CA4_element.get(\"type\")\n",
    "        \n",
    "        penalty = int(CA4_element.get(\"penalty\")) if CA4_element.get(\"penalty\") is not None else 0\n",
    "        \n",
    "        const = CA4(teams_1, teams_2, slots, mode_game, mode_const, min_d, max_d, penalty)\n",
    "\n",
    "        if const_type == \"HARD\":\n",
    "            Hard_constraints[\"CA4\"].append(const)\n",
    "        else:\n",
    "            Soft_constraints[\"CA4\"].append(const)\n",
    "    \n",
    "    return Hard_constraints, Soft_constraints\n"
   ]
  },
  {
   "cell_type": "code",
   "execution_count": 6,
   "metadata": {
    "ExecuteTime": {
     "end_time": "2021-04-17T20:30:27.492237Z",
     "start_time": "2021-04-17T20:30:27.479476Z"
    }
   },
   "outputs": [
    {
     "data": {
      "text/plain": [
       "{'CA1': [<Capacity_constraints.CA1 at 0x7fc32df0ca60>,\n",
       "  <Capacity_constraints.CA1 at 0x7fc32df0c9d0>,\n",
       "  <Capacity_constraints.CA1 at 0x7fc32df0ca90>,\n",
       "  <Capacity_constraints.CA1 at 0x7fc32df0ceb0>,\n",
       "  <Capacity_constraints.CA1 at 0x7fc32df0ccd0>,\n",
       "  <Capacity_constraints.CA1 at 0x7fc32debbe20>,\n",
       "  <Capacity_constraints.CA1 at 0x7fc32debbb50>,\n",
       "  <Capacity_constraints.CA1 at 0x7fc32debbee0>,\n",
       "  <Capacity_constraints.CA1 at 0x7fc32debb9a0>,\n",
       "  <Capacity_constraints.CA1 at 0x7fc32debbdc0>],\n",
       " 'CA2': [],\n",
       " 'CA3': [<Capacity_constraints.CA3 at 0x7fc32d598820>,\n",
       "  <Capacity_constraints.CA3 at 0x7fc32d598940>,\n",
       "  <Capacity_constraints.CA3 at 0x7fc32d5989a0>,\n",
       "  <Capacity_constraints.CA3 at 0x7fc32d598a00>,\n",
       "  <Capacity_constraints.CA3 at 0x7fc32d598a90>,\n",
       "  <Capacity_constraints.CA3 at 0x7fc32d598a30>],\n",
       " 'CA4': []}"
      ]
     },
     "execution_count": 6,
     "metadata": {},
     "output_type": "execute_result"
    }
   ],
   "source": [
    "CA_Hard_constraints, CA_Soft_constraints = parseCapacityConstraints(root)\n",
    "CA_Hard_constraints"
   ]
  },
  {
   "cell_type": "code",
   "execution_count": 9,
   "metadata": {
    "ExecuteTime": {
     "end_time": "2021-04-17T20:31:29.657065Z",
     "start_time": "2021-04-17T20:31:29.646180Z"
    },
    "code_folding": []
   },
   "outputs": [],
   "source": [
    "def parseGameConstraints(root):\n",
    "    \"\"\"\n",
    "        Parse the game constraints defined on Teams\n",
    "    \"\"\"\n",
    "    Hard_constraints = {\"GA1\": []}\n",
    "    Soft_constraints = {\"GA1\": []}\n",
    "\n",
    "    for GA1_element in root.findall(\".//GameConstraints/GA1\"):\n",
    "    \n",
    "        meetings = GA1_element.get(\"meetings\").split(\";\")\n",
    "        slots = list(map(int,GA1_element.get(\"slots\").split(\";\")))\n",
    "        min_d = int(GA1_element.get(\"min\")) if GA1_element.get(\"min\") is not None else 0\n",
    "        max_d = int(GA1_element.get(\"max\"))\n",
    "        const_type = GA1_element.get(\"type\")\n",
    "        \n",
    "        penalty = int(GA1_element.get(\"penalty\")) if GA1_element.get(\"penalty\") is not None else 0\n",
    "        \n",
    "        games = []\n",
    "        for meeting in meetings[-1]:\n",
    "            games.append(tuple(meeting.split(\",\")))\n",
    "            \n",
    "        const = GA1(meetings, slots, min_d, max_d, penalty)\n",
    "    \n",
    "        if const_type == \"HARD\":\n",
    "            Hard_constraints[\"GA1\"].append(const)\n",
    "        else:\n",
    "            Soft_constraints[\"GA1\"].append(const)\n",
    "    \n",
    "    return Hard_constraints, Soft_constraints"
   ]
  },
  {
   "cell_type": "code",
   "execution_count": 10,
   "metadata": {
    "ExecuteTime": {
     "end_time": "2021-04-17T20:31:30.548073Z",
     "start_time": "2021-04-17T20:31:30.540265Z"
    }
   },
   "outputs": [],
   "source": [
    "GA_Hard_constraints, GA_Soft_constraints = parseGameConstraints(root)"
   ]
  },
  {
   "cell_type": "code",
   "execution_count": 39,
   "metadata": {
    "ExecuteTime": {
     "end_time": "2021-04-11T20:43:43.928757Z",
     "start_time": "2021-04-11T20:43:43.920006Z"
    }
   },
   "outputs": [
    {
     "data": {
      "text/plain": [
       "[]"
      ]
     },
     "execution_count": 39,
     "metadata": {},
     "output_type": "execute_result"
    }
   ],
   "source": [
    "list(map(str,GA_Hard_constraints[\"GA1\"]))"
   ]
  },
  {
   "cell_type": "code",
   "execution_count": 40,
   "metadata": {
    "ExecuteTime": {
     "end_time": "2021-04-11T19:25:05.155565Z",
     "start_time": "2021-04-11T19:25:05.142343Z"
    },
    "code_folding": []
   },
   "outputs": [],
   "source": [
    "def parseBreakConstraints(root):\n",
    "    \"\"\"\n",
    "        Parse the break constraints defined on teams\n",
    "    \"\"\"\n",
    "    Hard_constraints = {\"BR1\": [], \"BR2\": []}\n",
    "    Soft_constraints = {\"BR1\": [], \"BR2\": []}\n",
    "    \n",
    "    for BR1_element in root.findall(\".//BreakConstraints/BR1\"):\n",
    "    \n",
    "        team_id = int(BR1_element.get(\"teams\"))\n",
    "        slots = list(map(int,BR1_element.get(\"slots\").split(\";\")))\n",
    "        mode_game = BR1_element.get(\"mode\")\n",
    "        intp = int(BR1_element.get(\"intp\"))\n",
    "        const_type = BR1_element.get(\"type\")\n",
    "        \n",
    "        penalty = int(BR1_element.get(\"penalty\")) if BR1_element.get(\"penalty\") is not None else 0\n",
    "        \n",
    "        const = BR1(team_id,slots,mode_game, intp, penalty)\n",
    "\n",
    "        if const_type == \"HARD\":\n",
    "            Hard_constraints[\"BR1\"].append(const)\n",
    "        else:\n",
    "            Soft_constraints[\"BR1\"].append(const)\n",
    "    \n",
    "    for BR2_element in root.findall(\".//BreakConstraints/BR2\"):\n",
    "    \n",
    "        teams = list(map(int,BR2_element.get(\"teams\").split(\";\")))\n",
    "        slots = list(map(int,BR2_element.get(\"slots\").split(\";\")))\n",
    "        intp = int(BR2_element.get(\"intp\"))\n",
    "        const_type = BR2_element.get(\"type\")\n",
    "        \n",
    "        penalty = int(BR2_element.get(\"penalty\")) if BR2_element.get(\"penalty\") is not None else 0\n",
    "        \n",
    "        const = BR2(teams,slots, intp, penalty)\n",
    "\n",
    "        if const_type == \"HARD\":\n",
    "            Hard_constraints[\"BR2\"].append(const)\n",
    "        else:\n",
    "            Soft_constraints[\"BR2\"].append(const)\n",
    "    \n",
    "    return Hard_constraints, Soft_constraints"
   ]
  },
  {
   "cell_type": "code",
   "execution_count": 41,
   "metadata": {
    "ExecuteTime": {
     "end_time": "2021-04-11T19:25:05.307793Z",
     "start_time": "2021-04-11T19:25:05.301698Z"
    }
   },
   "outputs": [],
   "source": [
    "BR_Hard_constraints, BR_Soft_constraints =  parseBreakConstraints(root)"
   ]
  },
  {
   "cell_type": "code",
   "execution_count": 42,
   "metadata": {
    "ExecuteTime": {
     "end_time": "2021-04-11T19:25:05.472517Z",
     "start_time": "2021-04-11T19:25:05.462647Z"
    },
    "code_folding": []
   },
   "outputs": [],
   "source": [
    "def parseFairnessConstraints(root):\n",
    "    \"\"\"\n",
    "        Parse the fairness constraints defined on pairs of teams\n",
    "    \"\"\"\n",
    "    Hard_constraints = {\"FA2\": []}\n",
    "    Soft_constraints = {\"FA2\": []}\n",
    "    \n",
    "    for FA2_element in root.findall(\".//FairnessConstraints/FA2\"):\n",
    "        \n",
    "        teams = list(map(int,FA2_element.get(\"teams\").split(\";\")))\n",
    "        slots = list(map(int,FA2_element.get(\"slots\").split(\";\")))\n",
    "        intp = int(FA2_element.get(\"intp\"))\n",
    "        const_type = FA2_element.get(\"type\")\n",
    "        \n",
    "        penalty = int(FA2_element.get(\"penalty\")) if FA2_element.get(\"penalty\") is not None else 0\n",
    "        \n",
    "        all_pairs = list(itertools.combinations(teams, 2))\n",
    "        for pair in all_pairs:\n",
    "            const = FA2(pair, slots, intp, penalty)\n",
    "\n",
    "            if const_type == \"HARD\":\n",
    "                Hard_constraints[\"FA2\"].append(const)\n",
    "            else:\n",
    "                Soft_constraints[\"FA2\"].append(const)\n",
    "    \n",
    "    return Hard_constraints, Soft_constraints"
   ]
  },
  {
   "cell_type": "code",
   "execution_count": 43,
   "metadata": {
    "ExecuteTime": {
     "end_time": "2021-04-11T19:25:05.626123Z",
     "start_time": "2021-04-11T19:25:05.618046Z"
    }
   },
   "outputs": [],
   "source": [
    "FA_Hard_constraints, FA_Soft_constraints =  parseFairnessConstraints(root)"
   ]
  },
  {
   "cell_type": "code",
   "execution_count": 44,
   "metadata": {
    "ExecuteTime": {
     "end_time": "2021-04-11T19:25:05.798962Z",
     "start_time": "2021-04-11T19:25:05.789148Z"
    },
    "code_folding": []
   },
   "outputs": [],
   "source": [
    "def parseSeperationConstraints(root):\n",
    "    \"\"\"\n",
    "        Parse the seperation constraints defined on pairs of teams\n",
    "    \"\"\"\n",
    "    \n",
    "    Hard_constraints = {\"SE1\": []}\n",
    "    Soft_constraints = {\"SE1\": []}\n",
    "    \n",
    "    for SE1_element in root.findall(\".//SeparationConstraints/SE1\"):\n",
    "        \n",
    "        teams = list(map(int,SE1_element.get(\"teams\").split(\";\")))\n",
    "        min_d = int(SE1_element.get(\"min\")) if SE1_element.get(\"min\") is not None else 0\n",
    "        const_type = SE1_element.get(\"type\")\n",
    "        \n",
    "        penalty = int(SE1_element.get(\"penalty\")) if SE1_element.get(\"penalty\") is not None else 0\n",
    "        \n",
    "        all_pairs = list(itertools.combinations(teams, 2))\n",
    "        for pair in all_pairs:\n",
    "            const = SE1(pair, min_d, penalty)\n",
    "\n",
    "            if const_type == \"HARD\":\n",
    "                Hard_constraints[\"SE1\"].append(const)\n",
    "            else:\n",
    "                Soft_constraints[\"SE1\"].append(const)\n",
    "    \n",
    "    return Hard_constraints, Soft_constraints"
   ]
  },
  {
   "cell_type": "code",
   "execution_count": 45,
   "metadata": {
    "ExecuteTime": {
     "end_time": "2021-04-11T19:25:05.967505Z",
     "start_time": "2021-04-11T19:25:05.958504Z"
    }
   },
   "outputs": [],
   "source": [
    "SE_Hard_constraints, SE_Soft_constraints = parseSeperationConstraints(root)"
   ]
  },
  {
   "cell_type": "code",
   "execution_count": 46,
   "metadata": {
    "ExecuteTime": {
     "end_time": "2021-04-11T19:25:06.525597Z",
     "start_time": "2021-04-11T19:25:06.515239Z"
    }
   },
   "outputs": [],
   "source": [
    "def parseITC(fname):\n",
    "    \"\"\"\n",
    "        API method to parse all data and constraints of an ITC instance\n",
    "    \"\"\"\n",
    "    \n",
    "    # Read the xml file\n",
    "    root = et.parse(fname)\n",
    "    \n",
    "    Hard_constraints = {}\n",
    "    Soft_constraints = {}\n",
    "    \n",
    "    # Get information about Teams, slots and the games\n",
    "    all_slots, all_teams, is_game_mode_phased = parseTeams(root)\n",
    "    Game_infos = {\"all_slots\": all_slots, \"all_teams\": all_teams, \"is_game_mode_phased\": is_game_mode_phased}\n",
    "    \n",
    "    # Capacity constraints\n",
    "    CA_Hard_constraints, CA_Soft_constraints = parseCapacityConstraints(root)\n",
    "    Hard_constraints[\"CA\"] = CA_Hard_constraints\n",
    "    Soft_constraints[\"CA\"] = CA_Soft_constraints\n",
    "    \n",
    "    # Game constraints\n",
    "    GA_Hard_constraints, GA_Soft_constraints = parseGameConstraints(root)\n",
    "    Hard_constraints[\"GA\"] = GA_Hard_constraints\n",
    "    Soft_constraints[\"GA\"] = GA_Soft_constraints\n",
    "    \n",
    "    # Break constraints\n",
    "    BR_Hard_constraints, BR_Soft_constraints =  parseBreakConstraints(root)\n",
    "    Hard_constraints[\"BR\"] = BR_Hard_constraints\n",
    "    Soft_constraints[\"BR\"] = BR_Soft_constraints\n",
    "    \n",
    "    # Fairness constraints\n",
    "    FA_Hard_constraints, FA_Soft_constraints =  parseFairnessConstraints(root)\n",
    "    Hard_constraints[\"FA\"] = FA_Hard_constraints\n",
    "    Soft_constraints[\"FA\"] = FA_Soft_constraints\n",
    "    \n",
    "    # Separation constraints\n",
    "    SE_Hard_constraints, SE_Soft_constraints = parseSeperationConstraints(root)\n",
    "    Hard_constraints[\"SE\"] = SE_Hard_constraints\n",
    "    Soft_constraints[\"SE\"] = SE_Soft_constraints\n",
    "    \n",
    "    return Game_infos, Hard_constraints, Soft_constraints"
   ]
  },
  {
   "cell_type": "code",
   "execution_count": 48,
   "metadata": {
    "ExecuteTime": {
     "end_time": "2021-04-11T19:25:07.186581Z",
     "start_time": "2021-04-11T19:25:07.176880Z"
    }
   },
   "outputs": [
    {
     "ename": "TypeError",
     "evalue": "'list' object is not callable",
     "output_type": "error",
     "traceback": [
      "\u001b[0;31m---------------------------------------------------------------------------\u001b[0m",
      "\u001b[0;31mTypeError\u001b[0m                                 Traceback (most recent call last)",
      "\u001b[0;32m<ipython-input-48-5a14265259cd>\u001b[0m in \u001b[0;36m<module>\u001b[0;34m\u001b[0m\n\u001b[0;32m----> 1\u001b[0;31m \u001b[0mGame_infos\u001b[0m\u001b[0;34m,\u001b[0m \u001b[0mHard_constraints\u001b[0m\u001b[0;34m,\u001b[0m \u001b[0mSoft_constraints\u001b[0m \u001b[0;34m=\u001b[0m \u001b[0mparseITC\u001b[0m\u001b[0;34m(\u001b[0m\u001b[0;34m\"data/TestInstances_V3/ITC2021_Test1.xml\"\u001b[0m\u001b[0;34m)\u001b[0m\u001b[0;34m\u001b[0m\u001b[0;34m\u001b[0m\u001b[0m\n\u001b[0m",
      "\u001b[0;32m<ipython-input-46-ca74e5a589ee>\u001b[0m in \u001b[0;36mparseITC\u001b[0;34m(fname)\u001b[0m\n\u001b[1;32m     20\u001b[0m \u001b[0;34m\u001b[0m\u001b[0m\n\u001b[1;32m     21\u001b[0m     \u001b[0;31m# Game constraints\u001b[0m\u001b[0;34m\u001b[0m\u001b[0;34m\u001b[0m\u001b[0;34m\u001b[0m\u001b[0m\n\u001b[0;32m---> 22\u001b[0;31m     \u001b[0mGA_Hard_constraints\u001b[0m\u001b[0;34m,\u001b[0m \u001b[0mGA_Soft_constraints\u001b[0m \u001b[0;34m=\u001b[0m \u001b[0mparseGameConstraints\u001b[0m\u001b[0;34m(\u001b[0m\u001b[0mroot\u001b[0m\u001b[0;34m)\u001b[0m\u001b[0;34m\u001b[0m\u001b[0;34m\u001b[0m\u001b[0m\n\u001b[0m\u001b[1;32m     23\u001b[0m     \u001b[0mHard_constraints\u001b[0m\u001b[0;34m[\u001b[0m\u001b[0;34m\"GA\"\u001b[0m\u001b[0;34m]\u001b[0m \u001b[0;34m=\u001b[0m \u001b[0mGA_Hard_constraints\u001b[0m\u001b[0;34m\u001b[0m\u001b[0;34m\u001b[0m\u001b[0m\n\u001b[1;32m     24\u001b[0m     \u001b[0mSoft_constraints\u001b[0m\u001b[0;34m[\u001b[0m\u001b[0;34m\"GA\"\u001b[0m\u001b[0;34m]\u001b[0m \u001b[0;34m=\u001b[0m \u001b[0mGA_Soft_constraints\u001b[0m\u001b[0;34m\u001b[0m\u001b[0;34m\u001b[0m\u001b[0m\n",
      "\u001b[0;32m<ipython-input-37-5740388b84be>\u001b[0m in \u001b[0;36mparseGameConstraints\u001b[0;34m(root)\u001b[0m\n\u001b[1;32m     19\u001b[0m         \u001b[0;32mfor\u001b[0m \u001b[0mmeeting\u001b[0m \u001b[0;32min\u001b[0m \u001b[0mmeetings\u001b[0m\u001b[0;34m:\u001b[0m\u001b[0;34m\u001b[0m\u001b[0;34m\u001b[0m\u001b[0m\n\u001b[1;32m     20\u001b[0m             \u001b[0mgames\u001b[0m\u001b[0;34m.\u001b[0m\u001b[0mappend\u001b[0m\u001b[0;34m(\u001b[0m\u001b[0mtuple\u001b[0m\u001b[0;34m(\u001b[0m\u001b[0mmeeting\u001b[0m\u001b[0;34m.\u001b[0m\u001b[0msplit\u001b[0m\u001b[0;34m(\u001b[0m\u001b[0;34m\",\"\u001b[0m\u001b[0;34m)\u001b[0m\u001b[0;34m)\u001b[0m\u001b[0;34m)\u001b[0m\u001b[0;34m\u001b[0m\u001b[0;34m\u001b[0m\u001b[0m\n\u001b[0;32m---> 21\u001b[0;31m             \u001b[0mmeetings\u001b[0m \u001b[0;34m=\u001b[0m \u001b[0mlist\u001b[0m\u001b[0;34m(\u001b[0m\u001b[0mmap\u001b[0m\u001b[0;34m(\u001b[0m\u001b[0mstr\u001b[0m\u001b[0;34m.\u001b[0m\u001b[0msplit\u001b[0m\u001b[0;34m(\u001b[0m\u001b[0;34m\",\"\u001b[0m\u001b[0;34m)\u001b[0m\u001b[0;34m,\u001b[0m\u001b[0mmeetings\u001b[0m\u001b[0;34m)\u001b[0m\u001b[0;34m)\u001b[0m\u001b[0;34m\u001b[0m\u001b[0;34m\u001b[0m\u001b[0m\n\u001b[0m\u001b[1;32m     22\u001b[0m             \u001b[0mmeetings\u001b[0m \u001b[0;34m=\u001b[0m \u001b[0mlist\u001b[0m\u001b[0;34m(\u001b[0m\u001b[0mmeetings\u001b[0m\u001b[0;34m.\u001b[0m\u001b[0msplit\u001b[0m\u001b[0;34m(\u001b[0m\u001b[0;34m\",\"\u001b[0m\u001b[0;34m)\u001b[0m\u001b[0;34m)\u001b[0m\u001b[0;34m\u001b[0m\u001b[0;34m\u001b[0m\u001b[0m\n\u001b[1;32m     23\u001b[0m \u001b[0;34m\u001b[0m\u001b[0m\n",
      "\u001b[0;31mTypeError\u001b[0m: 'list' object is not callable"
     ]
    }
   ],
   "source": [
    "Game_infos, Hard_constraints, Soft_constraints = parseITC(\"data/TestInstances_V3/ITC2021_Test1.xml\")"
   ]
  },
  {
   "cell_type": "code",
   "execution_count": null,
   "metadata": {
    "ExecuteTime": {
     "end_time": "2021-04-11T19:51:20.244639Z",
     "start_time": "2021-04-11T19:51:20.237080Z"
    }
   },
   "outputs": [],
   "source": [
    "Game_infos"
   ]
  },
  {
   "cell_type": "code",
   "execution_count": null,
   "metadata": {
    "ExecuteTime": {
     "end_time": "2021-04-11T19:25:23.329700Z",
     "start_time": "2021-04-11T19:25:23.315875Z"
    }
   },
   "outputs": [],
   "source": [
    "Soft_constraints"
   ]
  },
  {
   "cell_type": "code",
   "execution_count": null,
   "metadata": {},
   "outputs": [],
   "source": []
  }
 ],
 "metadata": {
  "kernelspec": {
   "display_name": "Python 3",
   "language": "python",
   "name": "python3"
  },
  "language_info": {
   "codemirror_mode": {
    "name": "ipython",
    "version": 3
   },
   "file_extension": ".py",
   "mimetype": "text/x-python",
   "name": "python",
   "nbconvert_exporter": "python",
   "pygments_lexer": "ipython3",
   "version": "3.8.5"
  }
 },
 "nbformat": 4,
 "nbformat_minor": 4
}
