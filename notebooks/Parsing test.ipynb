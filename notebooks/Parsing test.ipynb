{
 "cells": [
  {
   "cell_type": "code",
   "execution_count": 1,
   "metadata": {
    "ExecuteTime": {
     "end_time": "2021-04-11T14:04:57.258968Z",
     "start_time": "2021-04-11T14:04:57.256580Z"
    }
   },
   "outputs": [],
   "source": [
    "from ITC21_parser import parseITC"
   ]
  },
  {
   "cell_type": "code",
   "execution_count": 2,
   "metadata": {
    "ExecuteTime": {
     "end_time": "2021-04-11T14:05:06.365910Z",
     "start_time": "2021-04-11T14:05:06.354400Z"
    }
   },
   "outputs": [
    {
     "data": {
      "text/plain": [
       "({'all_slots': [0, 1, 2, 3, 4, 5, 6, 7, 8, 9],\n",
       "  'all_teams': [0, 1, 2, 3, 4, 5],\n",
       "  'is_game_mode_phased': True},\n",
       " {'CA': {'CA1': [<Capacity_constraints.CA1 at 0x7f921ae73f70>,\n",
       "    <Capacity_constraints.CA1 at 0x7f921ae73e80>,\n",
       "    <Capacity_constraints.CA1 at 0x7f921ae73ee0>,\n",
       "    <Capacity_constraints.CA1 at 0x7f921ae73eb0>,\n",
       "    <Capacity_constraints.CA1 at 0x7f921ae73820>,\n",
       "    <Capacity_constraints.CA1 at 0x7f921ae737f0>,\n",
       "    <Capacity_constraints.CA1 at 0x7f921ae73970>,\n",
       "    <Capacity_constraints.CA1 at 0x7f921ae73160>,\n",
       "    <Capacity_constraints.CA1 at 0x7f921ae73940>,\n",
       "    <Capacity_constraints.CA1 at 0x7f921ae73850>],\n",
       "   'CA2': [],\n",
       "   'CA3': [<Capacity_constraints.CA3 at 0x7f921b5f56d0>,\n",
       "    <Capacity_constraints.CA3 at 0x7f921b5f5eb0>,\n",
       "    <Capacity_constraints.CA3 at 0x7f921b5f5070>,\n",
       "    <Capacity_constraints.CA3 at 0x7f921b5f5f10>,\n",
       "    <Capacity_constraints.CA3 at 0x7f921b8e5700>,\n",
       "    <Capacity_constraints.CA3 at 0x7f921b8e5d00>],\n",
       "   'CA4': []},\n",
       "  'GA': {'GA1': [<Game_constraints.GA1 at 0x7f921b8e5940>,\n",
       "    <Game_constraints.GA1 at 0x7f921b8e5be0>,\n",
       "    <Game_constraints.GA1 at 0x7f921b8e56d0>,\n",
       "    <Game_constraints.GA1 at 0x7f921b8e5a60>,\n",
       "    <Game_constraints.GA1 at 0x7f921b8e5100>,\n",
       "    <Game_constraints.GA1 at 0x7f921b8e57c0>,\n",
       "    <Game_constraints.GA1 at 0x7f921b8e55e0>,\n",
       "    <Game_constraints.GA1 at 0x7f921b8e5160>,\n",
       "    <Game_constraints.GA1 at 0x7f921b8e5a90>,\n",
       "    <Game_constraints.GA1 at 0x7f921b8e5820>,\n",
       "    <Game_constraints.GA1 at 0x7f921b8e5970>,\n",
       "    <Game_constraints.GA1 at 0x7f921b8e5490>,\n",
       "    <Game_constraints.GA1 at 0x7f921b8e52b0>,\n",
       "    <Game_constraints.GA1 at 0x7f921b8e5e20>,\n",
       "    <Game_constraints.GA1 at 0x7f921b8e5ac0>,\n",
       "    <Game_constraints.GA1 at 0x7f921b8e5850>,\n",
       "    <Game_constraints.GA1 at 0x7f921b8e5640>]},\n",
       "  'BR': {'BR1': [], 'BR2': [<Break_constraints.BR2 at 0x7f921b900e20>]},\n",
       "  'FA': {'FA2': []},\n",
       "  'SE': {'SE1': []}},\n",
       " {'CA': {'CA1': [<Capacity_constraints.CA1 at 0x7f921ae73f10>,\n",
       "    <Capacity_constraints.CA1 at 0x7f921ae73370>,\n",
       "    <Capacity_constraints.CA1 at 0x7f921ae73b50>,\n",
       "    <Capacity_constraints.CA1 at 0x7f921ae73be0>,\n",
       "    <Capacity_constraints.CA1 at 0x7f921ae73fd0>,\n",
       "    <Capacity_constraints.CA1 at 0x7f921ae73b20>,\n",
       "    <Capacity_constraints.CA1 at 0x7f921ae73a30>,\n",
       "    <Capacity_constraints.CA1 at 0x7f921ae733d0>,\n",
       "    <Capacity_constraints.CA1 at 0x7f921ae73400>,\n",
       "    <Capacity_constraints.CA1 at 0x7f921ae73af0>,\n",
       "    <Capacity_constraints.CA1 at 0x7f921ae73430>,\n",
       "    <Capacity_constraints.CA1 at 0x7f921ae73220>,\n",
       "    <Capacity_constraints.CA1 at 0x7f921ae732b0>,\n",
       "    <Capacity_constraints.CA1 at 0x7f921ae736d0>,\n",
       "    <Capacity_constraints.CA1 at 0x7f921ae73700>,\n",
       "    <Capacity_constraints.CA1 at 0x7f921bab08e0>,\n",
       "    <Capacity_constraints.CA1 at 0x7f921bab00d0>],\n",
       "   'CA2': [],\n",
       "   'CA3': [<Capacity_constraints.CA3 at 0x7f921b8e5130>,\n",
       "    <Capacity_constraints.CA3 at 0x7f921b8e5520>,\n",
       "    <Capacity_constraints.CA3 at 0x7f921b8e5fa0>,\n",
       "    <Capacity_constraints.CA3 at 0x7f921b8e5e80>,\n",
       "    <Capacity_constraints.CA3 at 0x7f921b8e58b0>,\n",
       "    <Capacity_constraints.CA3 at 0x7f921b8e5040>,\n",
       "    <Capacity_constraints.CA3 at 0x7f921b8e5250>,\n",
       "    <Capacity_constraints.CA3 at 0x7f921b8e5eb0>,\n",
       "    <Capacity_constraints.CA3 at 0x7f921b8e59a0>,\n",
       "    <Capacity_constraints.CA3 at 0x7f921b8e52e0>,\n",
       "    <Capacity_constraints.CA3 at 0x7f921b8e5310>,\n",
       "    <Capacity_constraints.CA3 at 0x7f921b8e5b80>,\n",
       "    <Capacity_constraints.CA3 at 0x7f921b8e53a0>,\n",
       "    <Capacity_constraints.CA3 at 0x7f921b8e5d90>,\n",
       "    <Capacity_constraints.CA3 at 0x7f921b8e56a0>,\n",
       "    <Capacity_constraints.CA3 at 0x7f921b8e5f40>],\n",
       "   'CA4': []},\n",
       "  'GA': {'GA1': [<Game_constraints.GA1 at 0x7f921b8e50d0>,\n",
       "    <Game_constraints.GA1 at 0x7f921b8e55b0>,\n",
       "    <Game_constraints.GA1 at 0x7f921ba47c70>,\n",
       "    <Game_constraints.GA1 at 0x7f921ba47ac0>,\n",
       "    <Game_constraints.GA1 at 0x7f921ba47be0>,\n",
       "    <Game_constraints.GA1 at 0x7f921ba47a90>,\n",
       "    <Game_constraints.GA1 at 0x7f921ba47b20>,\n",
       "    <Game_constraints.GA1 at 0x7f921ba47d60>,\n",
       "    <Game_constraints.GA1 at 0x7f921ba47af0>,\n",
       "    <Game_constraints.GA1 at 0x7f921ba472b0>,\n",
       "    <Game_constraints.GA1 at 0x7f921ba47fd0>,\n",
       "    <Game_constraints.GA1 at 0x7f921ba477c0>,\n",
       "    <Game_constraints.GA1 at 0x7f921b900b20>,\n",
       "    <Game_constraints.GA1 at 0x7f921b900d90>,\n",
       "    <Game_constraints.GA1 at 0x7f921b9003d0>,\n",
       "    <Game_constraints.GA1 at 0x7f921b9004f0>,\n",
       "    <Game_constraints.GA1 at 0x7f921b900c40>,\n",
       "    <Game_constraints.GA1 at 0x7f921b9009d0>,\n",
       "    <Game_constraints.GA1 at 0x7f921b900730>,\n",
       "    <Game_constraints.GA1 at 0x7f921b9008e0>,\n",
       "    <Game_constraints.GA1 at 0x7f921b900d60>,\n",
       "    <Game_constraints.GA1 at 0x7f921b900f70>,\n",
       "    <Game_constraints.GA1 at 0x7f921b9006a0>,\n",
       "    <Game_constraints.GA1 at 0x7f921b900310>,\n",
       "    <Game_constraints.GA1 at 0x7f921b9000a0>,\n",
       "    <Game_constraints.GA1 at 0x7f921b900100>]},\n",
       "  'BR': {'BR1': [], 'BR2': []},\n",
       "  'FA': {'FA2': []},\n",
       "  'SE': {'SE1': [<Seperation_constraints.SE1 at 0x7f921b900eb0>,\n",
       "    <Seperation_constraints.SE1 at 0x7f921b900e50>,\n",
       "    <Seperation_constraints.SE1 at 0x7f921b900460>,\n",
       "    <Seperation_constraints.SE1 at 0x7f921b900190>,\n",
       "    <Seperation_constraints.SE1 at 0x7f921b900d30>,\n",
       "    <Seperation_constraints.SE1 at 0x7f921b900130>,\n",
       "    <Seperation_constraints.SE1 at 0x7f921b900160>,\n",
       "    <Seperation_constraints.SE1 at 0x7f921b900fa0>,\n",
       "    <Seperation_constraints.SE1 at 0x7f921b900a90>,\n",
       "    <Seperation_constraints.SE1 at 0x7f921b900f40>,\n",
       "    <Seperation_constraints.SE1 at 0x7f921b900280>,\n",
       "    <Seperation_constraints.SE1 at 0x7f921b900880>,\n",
       "    <Seperation_constraints.SE1 at 0x7f921b900970>,\n",
       "    <Seperation_constraints.SE1 at 0x7f921b900250>,\n",
       "    <Seperation_constraints.SE1 at 0x7f921b9007f0>]}})"
      ]
     },
     "execution_count": 2,
     "metadata": {},
     "output_type": "execute_result"
    }
   ],
   "source": [
    "parseITC(\"data/TestInstances_V3/ITC2021_Test1.xml\")"
   ]
  },
  {
   "cell_type": "code",
   "execution_count": null,
   "metadata": {},
   "outputs": [],
   "source": []
  }
 ],
 "metadata": {
  "kernelspec": {
   "display_name": "Python 3",
   "language": "python",
   "name": "python3"
  },
  "language_info": {
   "codemirror_mode": {
    "name": "ipython",
    "version": 3
   },
   "file_extension": ".py",
   "mimetype": "text/x-python",
   "name": "python",
   "nbconvert_exporter": "python",
   "pygments_lexer": "ipython3",
   "version": "3.8.5"
  }
 },
 "nbformat": 4,
 "nbformat_minor": 4
}
