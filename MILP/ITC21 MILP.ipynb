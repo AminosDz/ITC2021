{
 "cells": [
  {
   "cell_type": "code",
   "execution_count": 1,
   "metadata": {
    "ExecuteTime": {
     "end_time": "2021-04-25T20:42:53.714447Z",
     "start_time": "2021-04-25T20:42:53.484207Z"
    }
   },
   "outputs": [],
   "source": [
    "import sys\n",
    "import os\n",
    "\n",
    "import gurobipy as gp\n",
    "from gurobipy import GRB, quicksum, multidict, tuplelist, tupledict, abs_, max_\n",
    "\n",
    "import pandas as pd\n",
    "from lxml import etree as et\n",
    "\n",
    "import pprint\n",
    "pp = pprint.PrettyPrinter(indent=4, compact=True)\n",
    "\n",
    "sys.path.insert(0,\"..\")\n",
    "from ITC21_parser import parseITC\n",
    "\n",
    "from solution import SOLUTION\n",
    "from lxml import etree as et\n",
    "\n",
    "%load_ext autoreload\n",
    "%autoreload 2"
   ]
  },
  {
   "cell_type": "code",
   "execution_count": 183,
   "metadata": {
    "ExecuteTime": {
     "end_time": "2021-04-25T21:48:00.587634Z",
     "start_time": "2021-04-25T21:48:00.572017Z"
    },
    "code_folding": []
   },
   "outputs": [],
   "source": [
    "# Parse ITC file\n",
    "path = \"../data/EarlyInstances_V3/ITC2021_Early_1.xml\"\n",
    "Game_infos, Hard_constraints, Soft_constraints = parseITC(path)\n",
    "\n",
    "E, T, is_game_mode_phased = Game_infos[\"all_teams\"], Game_infos[\"all_slots\"],\\\n",
    "                            Game_infos[\"is_game_mode_phased\"]\n",
    "\n",
    "nb_teams = len(E)\n",
    "nb_slots = len(T)\n",
    "\n",
    "CA_Hard_constraints, GA_Hard_constraints, BR_Hard_constraints\\\n",
    "    , FA_Hard_constraints, SE_Hard_constraints = Hard_constraints[\"CA\"], Hard_constraints[\"GA\"],\\\n",
    "    Hard_constraints[\"BR\"], Hard_constraints[\"FA\"], Hard_constraints[\"SE\"]\n",
    "\n",
    "CA_Soft_constraints, GA_Soft_constraints, BR_Soft_constraints\\\n",
    "    , FA_Soft_constraints, SE_Soft_constraints = Soft_constraints[\"CA\"], Soft_constraints[\"GA\"],\\\n",
    "    Soft_constraints[\"BR\"], Soft_constraints[\"FA\"], Soft_constraints[\"SE\"]\n",
    "\n",
    "# Nb CA\n",
    "nb_CA1 = len(CA_Soft_constraints[\"CA1\"])\n",
    "nb_CA2 = len(CA_Soft_constraints[\"CA2\"])\n",
    "nb_CA3 = len(CA_Soft_constraints[\"CA3\"])\n",
    "nb_CA4 = len(CA_Soft_constraints[\"CA4\"])\n",
    "# Nb GA\n",
    "nb_GA = len(GA_Soft_constraints[\"GA1\"])\n",
    "# Nb BR\n",
    "nb_BR1 = len(BR_Soft_constraints[\"BR1\"])\n",
    "nb_BR2 = len(BR_Soft_constraints[\"BR2\"])\n",
    "# Nb FA\n",
    "nb_FA = len(FA_Soft_constraints[\"FA2\"])\n",
    "# Nb SE\n",
    "nb_SE = len(SE_Soft_constraints[\"SE1\"])"
   ]
  },
  {
   "cell_type": "code",
   "execution_count": 184,
   "metadata": {
    "ExecuteTime": {
     "end_time": "2021-04-25T21:48:00.834891Z",
     "start_time": "2021-04-25T21:48:00.785654Z"
    }
   },
   "outputs": [],
   "source": [
    "model = gp.Model(\"itcModel\")\n",
    "X_ijt = model.addVars(nb_teams, nb_teams, nb_slots, vtype=GRB.BINARY,  name=\"X_ijt\")\n",
    "\n",
    "BH_it = model.addVars(nb_teams, nb_slots, vtype = GRB.BINARY, name=\"BH_it\")\n",
    "BA_it = model.addVars(nb_teams, nb_slots, vtype = GRB.BINARY, name=\"BA_it\")"
   ]
  },
  {
   "cell_type": "code",
   "execution_count": 185,
   "metadata": {
    "ExecuteTime": {
     "end_time": "2021-04-25T21:48:01.061296Z",
     "start_time": "2021-04-25T21:48:01.006165Z"
    },
    "code_folding": []
   },
   "outputs": [
    {
     "data": {
      "text/plain": [
       "'constrs = model.addConstrs( (BH_it[i,t] + quicksum( X_ijt[j,i,t] for j in E if j!=i ) <= 1                              for i in E for t in T), name=\"BH_H\" )\\nconstrs = model.addConstrs( (BA_it[i,t] + quicksum( X_ijt[i,j,t] for j in E if j!=i ) <= 1                              for i in E for t in T), name=\"BA_A\" )'"
      ]
     },
     "execution_count": 185,
     "metadata": {},
     "output_type": "execute_result"
    }
   ],
   "source": [
    "# X_ijt link to BH_it and BA_it\n",
    "#### BH\n",
    "constrs = model.addConstrs( (quicksum( X_ijt[i,j,t-1] for j in E if j!=i) \\\n",
    "                + quicksum( X_ijt[i,j,t] for j in E if j!=i) - 1 <= BH_it[i,t]\\\n",
    "                for i in E for t in T[1:]), name=\"X-BH\")\n",
    "\n",
    "\"\"\"constrs = model.addConstrs( (BH_it[i,t] <= (quicksum( X_ijt[i,j,t-1] for j in E if j!=i)) \\\n",
    "                for i in E for t in T[1:]), name=\"X-BH\")\n",
    "constrs = model.addConstrs( (BH_it[i,t] <= (quicksum( X_ijt[i,j,t] for j in E if j!=i)) \\\n",
    "                for i in E for t in T[1:]), name=\"X-BH\")\"\"\"\n",
    "\n",
    "\n",
    "### BA\n",
    "constrs = model.addConstrs( (quicksum( X_ijt[j,i,t-1] for j in E if j!=i) \\\n",
    "                + quicksum( X_ijt[j,i,t] for j in E if j!=i) - 1 <= BA_it[i,t]\\\n",
    "                for i in E for t in T[1:]), name=\"X-BA\")\n",
    "\n",
    "\"\"\"constrs = model.addConstrs( (BA_it[i,t] <= (quicksum( X_ijt[j,i,t-1] for j in E if j!=i)) \\\n",
    "                for i in E for t in T[1:]), name=\"X-BA\")\n",
    "constrs = model.addConstrs( (BA_it[i,t] <= (quicksum( X_ijt[j,i,t] for j in E if j!=i)) \\\n",
    "                for i in E for t in T[1:]), name=\"X-BA\")\n",
    "\n",
    "\n",
    "constrs = model.addConstrs( (BA_it[i,t] + BH_it[i,t] <= 1 for i in E for t in T), name=\"BA_BH\" )\"\"\"\n",
    "\n",
    "\"\"\"constrs = model.addConstrs( (BH_it[i,t] + quicksum( X_ijt[j,i,t] for j in E if j!=i ) <= 1 \\\n",
    "                             for i in E for t in T), name=\"BH_H\" )\n",
    "constrs = model.addConstrs( (BA_it[i,t] + quicksum( X_ijt[i,j,t] for j in E if j!=i ) <= 1 \\\n",
    "                             for i in E for t in T), name=\"BA_A\" )\"\"\""
   ]
  },
  {
   "cell_type": "code",
   "execution_count": 186,
   "metadata": {
    "ExecuteTime": {
     "end_time": "2021-04-25T21:48:01.592306Z",
     "start_time": "2021-04-25T21:48:01.524514Z"
    },
    "code_folding": [
     0
    ]
   },
   "outputs": [],
   "source": [
    "# Defining penalties\n",
    "# CA1 Penalties \n",
    "Pen_CA1 = model.addVars(nb_CA1,lb=0, vtype=GRB.INTEGER, name=\"Pen_CA1\")\n",
    "Pen_CA2 = model.addVars(nb_CA2, lb=0, vtype=GRB.INTEGER, name=\"Pen_CA2\")\n",
    "Pen_CA3 = model.addVars(nb_CA3, nb_slots, lb=0, vtype=GRB.INTEGER, name=\"Pen_CA3\")\n",
    "Pen_CA4 = model.addVars(nb_CA4, nb_slots, lb=0, vtype=GRB.INTEGER, name=\"Pen_CA4\")\n",
    "\n",
    "Pen_CA4_sum_g = model.addVar( lb=0, vtype=GRB.INTEGER, name=\"Pen_CA4_g\")\n",
    "Pen_CA4_sum_e = model.addVar( lb=0, vtype=GRB.INTEGER, name=\"Pen_CA4_e\")\n",
    "\n",
    "# GA Penalties\n",
    "Pen_GA = model.addVars(nb_GA, lb=0, vtype=GRB.INTEGER, name=\"Pen_GA\")\n",
    "# BR Penalties\n",
    "Pen_BR1 = model.addVars(nb_BR1, lb=0, vtype=GRB.INTEGER, name=\"Pen_BR1\")\n",
    "Pen_BR2 = model.addVars(nb_BR2, lb=0, vtype=GRB.INTEGER, name=\"Pen_BR2\")\n",
    "# FA penalties\n",
    "Pen_FA = model.addVars(nb_FA, nb_slots, lb=0, vtype=GRB.INTEGER, name=\"Pen_FA\")\n",
    "# SE penalties\n",
    "Pen_SE = []\n",
    "if len(SE_Soft_constraints[\"SE1\"]) > 0:\n",
    "    min_d_se = SE_Soft_constraints[\"SE1\"][0].min_d\n",
    "    Pen_SE = model.addVars(nb_SE, nb_slots + min_d_se, lb=0, vtype=GRB.BINARY, name=\"Pen_SE\")\n",
    "\n",
    "# All penalties\n",
    "Pen = model.addVar( lb=0, vtype=GRB.INTEGER, name=\"Pen\")\n",
    "\n",
    "constrs = model.addConstr( Pen_CA4_sum_g == quicksum( Pen_CA4[i,0] \\\n",
    "                for i in range(nb_CA4) if CA_Soft_constraints[\"CA4\"][i].mode_const == \"GLOBAL\"),name=\"CA4-g\")\n",
    "\n",
    "constrs = model.addConstr( Pen_CA4_sum_e == quicksum( Pen_CA4[i,o] for i in range(nb_CA4) if CA_Soft_constraints[\"CA4\"][i].mode_const == \"EVERY\"\\\n",
    "                for o in CA_Soft_constraints[\"CA4\"][i].slots ),name=\"CA4-e\")\n",
    "\n",
    "Pen_SE_g = model.addVars(nb_SE, lb=0, vtype=GRB.INTEGER, name=\"Pen_SE_g\")\n",
    "\n",
    "constrs = model.addConstrs( (Pen_SE_g[nb] >= SE_Soft_constraints[\"SE1\"][nb].penalty * \\\n",
    "                             ( quicksum( Pen_SE[nb,t] \\\n",
    "                                                                    for t in range(nb_slots + min_d_se)) )\n",
    "                             for nb in range(nb_SE)), name=\"SE_g\" )\n",
    "\n",
    "constrs = model.addConstr( Pen == Pen_CA1.sum(\"*\") + Pen_CA2.sum(\"*\") + Pen_CA3.sum(\"*\",\"*\") + Pen_CA4_sum_e +\\\n",
    "         Pen_CA4_sum_g + Pen_GA.sum(\"*\") + Pen_BR1.sum(\"*\") + Pen_BR2.sum(\"*\") + Pen_FA.sum(\"*\",\"*\") + \\\n",
    "                          Pen_SE_g.sum(\"*\"),\\\n",
    "                          name=\"C-Pen\")"
   ]
  },
  {
   "cell_type": "markdown",
   "metadata": {
    "ExecuteTime": {
     "end_time": "2021-04-17T21:31:39.204937Z",
     "start_time": "2021-04-17T21:31:39.196885Z"
    }
   },
   "source": [
    "# Constraints"
   ]
  },
  {
   "cell_type": "code",
   "execution_count": 187,
   "metadata": {
    "ExecuteTime": {
     "end_time": "2021-04-25T21:48:02.770233Z",
     "start_time": "2021-04-25T21:48:02.674885Z"
    },
    "code_folding": []
   },
   "outputs": [],
   "source": [
    "#### General constraints ####\n",
    "\n",
    "# C1 - Team conflict\n",
    "constrs = model.addConstrs( ( quicksum(X_ijt[i,j,t] for j in E if j != i) + \\\n",
    "                        quicksum(X_ijt[j,i,t] for j in E if j != i) == 1 for i in E for t in T), name=\"C1\" )\n",
    "\n",
    "# C2 - Team home games\n",
    "constrs = model.addConstrs( ( quicksum(X_ijt[i,j,t] for t in T) == 1 \\\n",
    "                             for i in E for j in E if i!=j ), name=\"C2\" )\n",
    "\n",
    "# C3 - Same Team conflict\n",
    "constrs = model.addConstrs( ( X_ijt[i,i,t] == 0 for i in E for t in T), name=\"C3\" )\n",
    "\n",
    "# C4 - Phased mode constraint\n",
    "if is_game_mode_phased:\n",
    "    middle = nb_slots // 2\n",
    "    constrs = model.addConstrs( ( quicksum(X_ijt[i,j,t] + X_ijt[j,i,t] for t in T[:middle]) <= 1\\\n",
    "                                for i in E for j in E if j != i), name=\"C4_H\")\n",
    "    constrs = model.addConstrs( ( quicksum(X_ijt[i,j,t] + X_ijt[j,i,t] for t in T[middle:]) <= 1\\\n",
    "                                for i in E for j in E if j != i), name=\"C4_A\")\n",
    "    \n",
    "# C5 - Number of games\n",
    "constrs = model.addConstrs( ( quicksum(X_ijt[i,j,t] for i in E for j in E) == nb_teams // 2 for t in T)\\\n",
    "                           , name=\"Nb_games\" )\n",
    "\n",
    "# C6 - Team Home games \n",
    "constrs = model.addConstrs( (quicksum(X_ijt[i,j,t] for j in E if j!= i for t in T) == nb_teams - 1 for i in E) \\\n",
    "                           , name=\"C6\" )\n",
    "\n",
    "# C7 - Team Away games\n",
    "constrs = model.addConstrs( (quicksum(X_ijt[j,i,t] for j in E if j!= i for t in T) == nb_teams - 1 for i in E) \\\n",
    "                           , name=\"C7\" )\n"
   ]
  },
  {
   "cell_type": "code",
   "execution_count": 188,
   "metadata": {
    "ExecuteTime": {
     "end_time": "2021-04-25T21:48:03.081462Z",
     "start_time": "2021-04-25T21:48:03.051714Z"
    },
    "code_folding": [
     0
    ]
   },
   "outputs": [],
   "source": [
    "#### Capacity constraints ####\n",
    "# CA1\n",
    "for ca1 in CA_Hard_constraints[\"CA1\"]:\n",
    "    i = ca1.team_id\n",
    "    T_c = ca1.slots\n",
    "    \n",
    "    if ca1.mode_game == \"H\":\n",
    "        constrs = model.addConstr( (quicksum( X_ijt[i,j,t] for j in E if j!= i for t in T_c) <= ca1.max_d \\\n",
    "                                   ), name=\"CA1_H\" )\n",
    "    elif ca1.mode_game == \"A\":\n",
    "        constrs = model.addConstr( (quicksum( X_ijt[j,i,t] for j in E if j!= i for t in T_c) <= ca1.max_d \\\n",
    "                                   ), name=\"CA1_A\" )\n",
    "        \n",
    "# CA2\n",
    "for ca2 in CA_Hard_constraints[\"CA2\"]:\n",
    "    i = ca2.team_1_id\n",
    "    T_c = ca2.slots\n",
    "    \n",
    "    if ca2.mode_game == \"H\":\n",
    "        constrs = model.addConstr( (quicksum( X_ijt[i,j,t] for j in ca2.teams_2_ids if j!=i for t in T_c)\\\n",
    "                                    <= ca2.max_d), name=\"CA2_H\" )\n",
    "    elif ca2.mode_game == \"A\":\n",
    "        constrs = model.addConstr( (quicksum( X_ijt[j,i,t] for j in ca2.teams_2_ids if j!=i for t in T_c)\\\n",
    "                                    <= ca2.max_d), name=\"CA2_A\" )\n",
    "    elif ca2.mode_game == \"HA\":\n",
    "        constrs = model.addConstr( (quicksum( X_ijt[j,i,t] + X_ijt[i,j,t] for j in ca2.teams_2_ids if j!= i\\\n",
    "                                             for t in T_c)<= ca2.max_d), name=\"CA2_HA\" )\n",
    "\n",
    "# CA3\n",
    "for ca3 in CA_Hard_constraints[\"CA3\"]:\n",
    "    i = ca3.team_1_id\n",
    "    \n",
    "    if ca3.mode_game == \"H\":\n",
    "        constrs = model.addConstrs( (quicksum( X_ijt[i,j,o] for j in ca3.teams_2_ids if j!=i \\\n",
    "                    for o in range(t, min(t+ca3.intp, nb_slots))) <= ca3.max_d  for t in T ), name=\"CA3_H\" )\n",
    "    elif ca3.mode_game == \"A\":\n",
    "        constrs = model.addConstrs( (quicksum( X_ijt[j,i,o] for j in ca3.teams_2_ids if j!=i \\\n",
    "                    for o in range(t, min(t+ca3.intp, nb_slots))) <= ca3.max_d  for t in T ), name=\"CA3_A\" )\n",
    "    elif ca3.mode_game == \"HA\":\n",
    "        constrs = model.addConstrs( (quicksum( X_ijt[j,i,o] + X_ijt[i,j,o] for j in ca3.teams_2_ids if j!=i \\\n",
    "                    for o in range(t, min(t+ca3.intp, nb_slots))) <= ca3.max_d  for t in T ), name=\"CA3_HA\" )\n",
    "\n",
    "# CA4\n",
    "for ca4 in CA_Hard_constraints[\"CA4\"]:\n",
    "    \n",
    "    T_c = ca4.slots\n",
    "    \n",
    "    if ca4.mode_const == \"GLOBAL\":\n",
    "        if ca4.mode_game == \"H\":\n",
    "            constrs = model.addConstr( (quicksum( X_ijt[i,j,t] for i in ca4.teams_1 for j in ca4.teams_2 \\\n",
    "                                            if j!=i for t in T_c) <= ca4.max_d), name=\"CA4_GH\" )\n",
    "        if ca4.mode_game == \"A\":\n",
    "            constrs = model.addConstr( (quicksum( X_ijt[j,i,t] for i in ca4.teams_1 for j in ca4.teams_2 \\\n",
    "                                            if j!=i for t in T_c) <= ca4.max_d), name=\"CA4_GA\" )\n",
    "        if ca4.mode_game == \"HA\":\n",
    "            constrs = model.addConstr( (quicksum( X_ijt[i,j,t] + X_ijt[j,i,t] for i in ca4.teams_1 \\\n",
    "                                for j in ca4.teams_2 if j!=i for t in T_c) <= ca4.max_d), name=\"CA4_GHA\" )\n",
    "        \n",
    "    elif ca4.mode_const == \"EVERY\":\n",
    "        if ca4.mode_game == \"H\":\n",
    "            constrs = model.addConstrs( (quicksum( X_ijt[i,j,t] for i in ca4.teams_1 \\\n",
    "                                for j in ca4.teams_2 if j!=i)<= ca4.max_d for t in T_c), name=\"CA4_EH\" )\n",
    "        if ca4.mode_game == \"A\":\n",
    "            constrs = model.addConstrs( (quicksum( X_ijt[j,i,t] for i in ca4.teams_1 \\\n",
    "                                for j in ca4.teams_2 if j!=i) <= ca4.max_d for t in T_c), name=\"CA4_EA\" )\n",
    "        if ca4.mode_game == \"HA\":\n",
    "            constrs = model.addConstrs( (quicksum( X_ijt[i,j,t] + X_ijt[j,i,t] for i in ca4.teams_1 \\\n",
    "                                for j in ca4.teams_2 if j!=i ) <= ca4.max_d for t in T_c), name=\"CA4_EHA\" )\n",
    "    "
   ]
  },
  {
   "cell_type": "code",
   "execution_count": 189,
   "metadata": {
    "ExecuteTime": {
     "end_time": "2021-04-25T21:48:03.346600Z",
     "start_time": "2021-04-25T21:48:03.336239Z"
    },
    "code_folding": []
   },
   "outputs": [],
   "source": [
    "### Game constraints ###\n",
    "for ga in GA_Hard_constraints[\"GA1\"]:\n",
    "    T_c = ga.slots\n",
    "    constrs = model.addConstr( quicksum( X_ijt[i,j,t] for i,j in ga.games for t in T_c )\\\n",
    "                              <= ga.max_d, name=\"GA1_max\" )\n",
    "    constrs = model.addConstr( quicksum( X_ijt[i,j,t] for i,j in ga.games for t in T_c )\\\n",
    "                              >= ga.min_d, name=\"GA1_min\" )"
   ]
  },
  {
   "cell_type": "code",
   "execution_count": 190,
   "metadata": {
    "ExecuteTime": {
     "end_time": "2021-04-25T21:48:03.867973Z",
     "start_time": "2021-04-25T21:48:03.853679Z"
    },
    "code_folding": []
   },
   "outputs": [
    {
     "data": {
      "text/plain": [
       "'for br2 in BR_Hard_constraints[\"BR2\"]:\\n    T_c = br2.slots\\n\\n    constrs = model.addConstr( quicksum( BH_it[i,t] + BA_it[i,t] for i in br2.teams for t in T_c)                                  <= br2.intp, name=\"BR2_HA\" )\\n    constrs.Lazy = 1'"
      ]
     },
     "execution_count": 190,
     "metadata": {},
     "output_type": "execute_result"
    }
   ],
   "source": [
    "### Break constraints ###\n",
    "for br1 in BR_Hard_constraints[\"BR1\"]:\n",
    "    i = br1.team_id\n",
    "    T_c = br1.slots\n",
    "    \n",
    "    if br1.mode_game == \"H\":\n",
    "        constrs = model.addConstr( quicksum( BH_it[i,t] for t in T_c) <= br1.intp , name=\"BR1_H\" )\n",
    "    elif br1.mode_game == \"A\":\n",
    "        constrs = model.addConstr( quicksum( BA_it[i,t] for t in T_c) <= br1.intp , name=\"BR1_A\" )\n",
    "    elif br1.mode_game == \"HA\":\n",
    "        constrs = model.addConstr( quicksum( BH_it[i,t] + BA_it[i,t] for t in T_c) <= br1.intp , name=\"BR1_HA\" )\n",
    "\n",
    "\"\"\"for br2 in BR_Hard_constraints[\"BR2\"]:\n",
    "    T_c = br2.slots\n",
    "\n",
    "    constrs = model.addConstr( quicksum( BH_it[i,t] + BA_it[i,t] for i in br2.teams for t in T_c)\\\n",
    "                                  <= br2.intp, name=\"BR2_HA\" )\n",
    "    constrs.Lazy = 1\"\"\"\n",
    "    "
   ]
  },
  {
   "cell_type": "code",
   "execution_count": 191,
   "metadata": {
    "ExecuteTime": {
     "end_time": "2021-04-25T21:48:06.164397Z",
     "start_time": "2021-04-25T21:48:06.154518Z"
    },
    "code_folding": [
     0
    ]
   },
   "outputs": [],
   "source": [
    "### Fairness constraints ###\n",
    "for fa in FA_Hard_constraints[\"FA2\"]:\n",
    "    T_c = fa.slots\n",
    "    i,j = fa.pair\n",
    "    \n",
    "    constrs = model.addConstrs((quicksum(X_ijt[i,k,o] for k in E if k!=i for o in range(0,t+1)) \\\n",
    "        - quicksum( X_ijt[j,k,o] for k in E if k!=j for o in range(0,t+1)) <= fa.intp for t in T),name=\"FA\" )"
   ]
  },
  {
   "cell_type": "code",
   "execution_count": 192,
   "metadata": {
    "ExecuteTime": {
     "end_time": "2021-04-25T21:48:06.439788Z",
     "start_time": "2021-04-25T21:48:06.429661Z"
    },
    "code_folding": [
     0
    ]
   },
   "outputs": [],
   "source": [
    "### Seperation constraints ###\n",
    "for se in SE_Hard_constraints[\"SE1\"]:\n",
    "    i,j = se.pair\n",
    "    constrs = model.addConstrs((quicksum( X_ijt[i,j,o] + X_ijt[j,i,o] \\\n",
    "                            for o in range(t, min(t+se.min_d+1, nb_slots))) <= 1 for t in T), name=\"SE\" )"
   ]
  },
  {
   "cell_type": "markdown",
   "metadata": {},
   "source": [
    "# Objective"
   ]
  },
  {
   "cell_type": "code",
   "execution_count": 36,
   "metadata": {
    "ExecuteTime": {
     "end_time": "2021-04-25T20:50:25.387389Z",
     "start_time": "2021-04-25T20:50:25.259211Z"
    },
    "code_folding": [
     0
    ]
   },
   "outputs": [],
   "source": [
    "#### Capacity penalties ####\n",
    "# CA1\n",
    "for nb, ca1 in enumerate(CA_Soft_constraints[\"CA1\"]):\n",
    "    i = ca1.team_id\n",
    "    T_c = ca1.slots\n",
    "    penalty = ca1.penalty\n",
    "    \n",
    "    if ca1.mode_game == \"H\":\n",
    "        constrs = model.addConstr( Pen_CA1[nb] >= (quicksum( X_ijt[i,j,t] for j in E if j!= i for t in T_c) - \\\n",
    "                                         ca1.max_d) * penalty , name=\"CA1_H\" )\n",
    "    elif ca1.mode_game == \"A\":\n",
    "        constrs = model.addConstr( Pen_CA1[nb] >= (quicksum( X_ijt[j,i,t] for j in E if j!= i for t in T_c) - \\\n",
    "                                         ca1.max_d) * penalty, name=\"CA1_A\" )\n",
    "\n",
    "# CA2\n",
    "for nb, ca2 in enumerate(CA_Soft_constraints[\"CA2\"]):\n",
    "    i = ca2.team_1_id\n",
    "    T_c = ca2.slots\n",
    "    penalty = ca2.penalty\n",
    "    \n",
    "    if ca2.mode_game == \"H\":\n",
    "        constrs = model.addConstr(  Pen_CA2[nb] >= (quicksum( X_ijt[i,j,t] for j in ca2.teams_2_ids if j!=i for t in T_c)\\\n",
    "                                    - ca2.max_d) * penalty, name=\"CA2_H\" )\n",
    "    elif ca2.mode_game == \"A\":\n",
    "        constrs = model.addConstr( Pen_CA2[nb] >= (quicksum( X_ijt[j,i,t] for j in ca2.teams_2_ids if j!=i for t in T_c)\\\n",
    "                                    - ca2.max_d) * penalty, name=\"CA2_A\" )\n",
    "    elif ca2.mode_game == \"HA\":\n",
    "        constrs = model.addConstr( Pen_CA2[nb] >= (quicksum( X_ijt[j,i,t] + X_ijt[i,j,t] for j in ca2.teams_2_ids if j!= i\\\n",
    "                                        for t in T_c) - ca2.max_d) * penalty , name=\"CA2_HA\" )\n",
    "\n",
    "# CA3\n",
    "for nb, ca3 in enumerate(CA_Soft_constraints[\"CA3\"]):\n",
    "    i = ca3.team_1_id\n",
    "    penalty = ca3.penalty\n",
    "    \n",
    "    if ca3.mode_game == \"H\":\n",
    "        for t in T[:nb_slots - ca3.intp +1]:\n",
    "            constrs = model.addConstr( Pen_CA3[nb, t] >= (quicksum(X_ijt[i,j,o] for j in ca3.teams_2_ids if j!=i\\\n",
    "                    for o in range(t, min(t+ca3.intp, nb_slots))) - ca3.max_d) * penalty\\\n",
    "                                    , name=\"CA3_H\" )\n",
    "    \n",
    "    elif ca3.mode_game == \"A\":\n",
    "        for t in T[:nb_slots - ca3.intp +1]:\n",
    "            constrs = model.addConstr( Pen_CA3[nb, t] >= (quicksum(X_ijt[j,i,o] for j in ca3.teams_2_ids if j!=i\\\n",
    "                    for o in range(t, min(t+ca3.intp, nb_slots))) - ca3.max_d) * penalty\\\n",
    "                                    , name=\"CA3_A\" )\n",
    "    \n",
    "    elif ca3.mode_game == \"HA\":\n",
    "        for t in T[:nb_slots - ca3.intp +1]:\n",
    "            constrs = model.addConstr( Pen_CA3[nb, t] >= (quicksum(X_ijt[i,j,o] + X_ijt[j,i,o] for j in ca3.teams_2_ids if j!=i\\\n",
    "                    for o in range(t, min(t+ca3.intp, nb_slots))) - ca3.max_d) * penalty\\\n",
    "                                    , name=\"CA3_HA\" )\n",
    "\n",
    "# CA4\n",
    "for nb, ca4 in enumerate(CA_Soft_constraints[\"CA4\"]):\n",
    "    \n",
    "    T_c = ca4.slots\n",
    "    \n",
    "    if ca4.mode_const == \"GLOBAL\":\n",
    "        if ca4.mode_game == \"H\":\n",
    "            constrs = model.addConstr( Pen_CA4[nb,0] >= (quicksum( X_ijt[i,j,t] for i in ca4.teams_1 \\\n",
    "                                    for j in ca4.teams_2 if j!=i for t in T_c) - ca4.max_d) * penalty \\\n",
    "                                         , name=\"CA4_GH\" )\n",
    "        if ca4.mode_game == \"A\":\n",
    "            constrs = model.addConstr( Pen_CA4[nb,0] >= (quicksum( X_ijt[j,i,t] for i in ca4.teams_1 \\\n",
    "                                    for j in ca4.teams_2 if j!=i for t in T_c) - ca4.max_d) * penalty \\\n",
    "                                         , name=\"CA4_GH\" )\n",
    "        if ca4.mode_game == \"HA\":\n",
    "            constrs = model.addConstr( Pen_CA4[nb,0] >= (quicksum( X_ijt[i,j,t] + X_ijt[j,i,t]  \\\n",
    "                        for i in ca4.teams_1 for j in ca4.teams_2 if j!=i for t in T_c) - ca4.max_d) * penalty \\\n",
    "                                         , name=\"CA4_GH\" )\n",
    "        \n",
    "    elif ca4.mode_const == \"EVERY\":\n",
    "        if ca4.mode_game == \"H\":\n",
    "            for t in T_c:\n",
    "                constrs = model.addConstr( Pen_CA4[nb,t] >= (quicksum( X_ijt[i,j,t] for i in ca4.teams_1 \\\n",
    "                                for j in ca4.teams_2 if j!=i ) - ca4.max_d ) * penalty, name=\"CA4_EH\" )\n",
    "        if ca4.mode_game == \"A\":\n",
    "            for t in T_c:\n",
    "                constrs = model.addConstr( Pen_CA4[nb,t] >= (quicksum( X_ijt[j,i,t] for i in ca4.teams_1 \\\n",
    "                                for j in ca4.teams_2 if j!=i ) - ca4.max_d ) * penalty, name=\"CA4_EH\" )\n",
    "                \n",
    "        if ca4.mode_game == \"HA\":\n",
    "            for t in T_c:\n",
    "                constrs = model.addConstr( Pen_CA4[nb,t] >= (quicksum( X_ijt[i,j,t] + X_ijt[j,i,t] \\\n",
    "                    for i in ca4.teams_1 for j in ca4.teams_2 if j!=i ) - ca4.max_d ) * penalty, name=\"CA4_EH\" )"
   ]
  },
  {
   "cell_type": "code",
   "execution_count": 37,
   "metadata": {
    "ExecuteTime": {
     "end_time": "2021-04-25T20:50:25.586911Z",
     "start_time": "2021-04-25T20:50:25.576517Z"
    },
    "code_folding": [
     0
    ]
   },
   "outputs": [],
   "source": [
    "### Game penalty\n",
    "# GA1\n",
    "for nb, ga in enumerate(GA_Soft_constraints[\"GA1\"]):\n",
    "    T_c = ga.slots\n",
    "    penalty = ga.penalty\n",
    "    constrs = model.addConstr( Pen_GA[nb] >= penalty * (quicksum( X_ijt[i,j,t] for i,j in ga.games for t in T_c )\\\n",
    "                              - ga.max_d), name=\"GA1_max\" )\n",
    "    constrs = model.addConstr( Pen_GA[nb] >= penalty * (ga.min_d - quicksum( X_ijt[i,j,t] for i,j in ga.games \\\n",
    "                            for t in T_c )), name=\"GA1_min\" )"
   ]
  },
  {
   "cell_type": "code",
   "execution_count": 38,
   "metadata": {
    "ExecuteTime": {
     "end_time": "2021-04-25T20:50:25.954831Z",
     "start_time": "2021-04-25T20:50:25.942192Z"
    },
    "code_folding": []
   },
   "outputs": [],
   "source": [
    "### Break penalty\n",
    "# BR1\n",
    "for nb, br1 in enumerate(BR_Soft_constraints[\"BR1\"]):\n",
    "    #print(str(br1))\n",
    "    i = br1.team_id\n",
    "    T_c = br1.slots\n",
    "    penalty = br1.penalty\n",
    "    \n",
    "    if br1.mode_game == \"H\":\n",
    "        constrs = model.addConstr( Pen_BR1[nb] >= penalty * (quicksum( BH_it[i,t] for t in T_c) - br1.intp)\\\n",
    "                                  , name=\"BR1_H\" )\n",
    "    elif br1.mode_game == \"A\":\n",
    "        constrs = model.addConstr( Pen_BR1[nb] >= penalty * (quicksum( BA_it[i,t] for t in T_c) - br1.intp)\\\n",
    "                                  , name=\"BR1_A\" )\n",
    "    elif br1.mode_game == \"HA\":\n",
    "        constrs = model.addConstr( Pen_BR1[nb] >= penalty * (quicksum( BH_it[i,t] + BA_it[i,t] for t in T_c) \\\n",
    "                                  - br1.intp) , name=\"BR1_HA\" )\n",
    "\n",
    "# GA2\n",
    "for nb, br2 in enumerate(BR_Soft_constraints[\"BR2\"]):\n",
    "    T_c = br2.slots\n",
    "    penalty = br2.penalty\n",
    "    constrs = model.addConstr( Pen_BR2[nb] >= penalty * (quicksum( BH_it[i,t] + BA_it[i,t] for i in br2.teams\\\n",
    "                            for t in T_c) - br2.intp) , name=\"BR2_HA\" )"
   ]
  },
  {
   "cell_type": "code",
   "execution_count": 39,
   "metadata": {
    "ExecuteTime": {
     "end_time": "2021-04-25T20:50:27.577534Z",
     "start_time": "2021-04-25T20:50:26.370976Z"
    },
    "code_folding": [
     0
    ]
   },
   "outputs": [],
   "source": [
    "### Fairness penalty ###\n",
    "# FA2\n",
    "for nb, fa in enumerate(FA_Soft_constraints[\"FA2\"]):\n",
    "    T_c = fa.slots\n",
    "    i,j = fa.pair\n",
    "    penalty = fa.penalty\n",
    "    \n",
    "    constrs = model.addConstrs( (Pen_FA[nb,t] >= penalty * (quicksum(X_ijt[i,k,o] for k in E if k!=i \\\n",
    "                                                                  for o in range(0,t+1)) \\\n",
    "        - quicksum( X_ijt[j,k,o] for k in E if k!=j for o in range(0,t+1)) - fa.intp) for t in T),name=\"FA\" )"
   ]
  },
  {
   "cell_type": "code",
   "execution_count": 40,
   "metadata": {
    "ExecuteTime": {
     "end_time": "2021-04-25T20:50:27.592179Z",
     "start_time": "2021-04-25T20:50:27.578911Z"
    },
    "code_folding": [
     0
    ]
   },
   "outputs": [],
   "source": [
    "### Seperation constraints ###\n",
    "for nb, se in enumerate(SE_Soft_constraints[\"SE1\"]):\n",
    "    i,j = se.pair\n",
    "    penalty = se.penalty\n",
    "    \n",
    "    for t in range(se.min_d):\n",
    "        constrs = model.addConstr(Pen_SE[nb, t] >= quicksum( X_ijt[i,j,o] + X_ijt[j,i,o]   \\\n",
    "                            for o in range(0, t+1)) - 1 , name=\"Pen_SE1_abs1\")\n",
    "    for t in T:\n",
    "        constrs = model.addConstr(Pen_SE[nb, t + se.min_d] >=  quicksum( X_ijt[i,j,o] + X_ijt[j,i,o] \\\n",
    "                            for o in range(t, min(t+se.min_d+1, nb_slots)) ) - 1 , name=\"Pen_SE1_abs1\")"
   ]
  },
  {
   "cell_type": "markdown",
   "metadata": {},
   "source": [
    "# Solving"
   ]
  },
  {
   "cell_type": "code",
   "execution_count": 193,
   "metadata": {
    "ExecuteTime": {
     "end_time": "2021-04-25T21:48:14.880448Z",
     "start_time": "2021-04-25T21:48:14.866967Z"
    }
   },
   "outputs": [],
   "source": [
    "# GA2\n",
    "for nb, br2 in enumerate(BR_Soft_constraints[\"BR2\"]):\n",
    "    T_c = br2.slots\n",
    "    penalty = br2.penalty\n",
    "    constrs = model.addConstr( Pen_BR2[nb] >= penalty * (quicksum( BH_it[i,t] + BA_it[i,t] for i in br2.teams\\\n",
    "                            for t in T_c) - br2.intp) , name=\"BR2_HA\" )"
   ]
  },
  {
   "cell_type": "code",
   "execution_count": 131,
   "metadata": {
    "ExecuteTime": {
     "end_time": "2021-04-25T14:56:31.613743Z",
     "start_time": "2021-04-25T14:56:31.605256Z"
    }
   },
   "outputs": [],
   "source": [
    "solution_folder = \"solutions/\"\n",
    "init_sol_path = solution_folder+\"sol_\"+path.split(\"/\")[-1]\n",
    "if os.path.exists(init_sol_path):\n",
    "    init_sol = SOLUTION()\n",
    "    init_sol.import_xml(init_sol_path)\n",
    "    \n",
    "    for t in init_sol.timetable:\n",
    "        for i,j in init_sol.timetable[t]:\n",
    "            X_ijt[i,j,t].Start = 1"
   ]
  },
  {
   "cell_type": "code",
   "execution_count": 196,
   "metadata": {
    "ExecuteTime": {
     "end_time": "2021-04-25T22:24:13.713903Z",
     "start_time": "2021-04-25T21:59:40.001035Z"
    }
   },
   "outputs": [
    {
     "name": "stdout",
     "output_type": "stream",
     "text": [
      "Changed value of parameter MIPFocus to 1\n",
      "   Prev: 0  Min: 0  Max: 3  Default: 0\n",
      "Gurobi Optimizer version 9.1.1 build v9.1.1rc0 (linux64)\n",
      "Thread count: 6 physical cores, 12 logical processors, using up to 12 threads\n",
      "Optimize a model with 2888 rows, 19711 columns and 98264 nonzeros\n",
      "Model fingerprint: 0x44edff1b\n",
      "Variable types: 0 continuous, 19711 integer (13440 binary)\n",
      "Coefficient statistics:\n",
      "  Matrix range     [1e+00, 1e+01]\n",
      "  Objective range  [1e+00, 1e+00]\n",
      "  Bounds range     [1e+00, 1e+00]\n",
      "  RHS range        [1e+00, 8e+01]\n",
      "\n",
      "Loaded MIP start from previous solve with objective 42\n",
      "\n",
      "Presolve removed 1002 rows and 12342 columns\n",
      "Presolve time: 0.15s\n",
      "Presolved: 1886 rows, 7369 columns, 58350 nonzeros\n",
      "Variable types: 0 continuous, 7369 integer (7368 binary)\n",
      "\n",
      "Root relaxation: objective 0.000000e+00, 8888 iterations, 2.75 seconds\n",
      "Total elapsed time = 6.88s\n",
      "\n",
      "    Nodes    |    Current Node    |     Objective Bounds      |     Work\n",
      " Expl Unexpl |  Obj  Depth IntInf | Incumbent    BestBd   Gap | It/Node Time\n",
      "\n",
      "     0     0    0.00000    0 1027   42.00000    0.00000   100%     -    9s\n",
      "     0     0    0.00000    0 1189   42.00000    0.00000   100%     -   11s\n",
      "     0     0    0.00000    0 1030   42.00000    0.00000   100%     -   24s\n",
      "     0     0    0.00000    0 1075   42.00000    0.00000   100%     -   25s\n",
      "     0     0    0.00000    0 1068   42.00000    0.00000   100%     -   35s\n",
      "     0     0    0.00000    0 1057   42.00000    0.00000   100%     -   35s\n",
      "     0     0    0.00000    0 1057   42.00000    0.00000   100%     -   46s\n",
      "     0     0    0.00000    0 1082   42.00000    0.00000   100%     -   47s\n",
      "     0     0    0.00000    0 1142   42.00000    0.00000   100%     -   53s\n",
      "H    0     0                       8.0000000    0.00000   100%     -   58s\n",
      "     0     2    0.00000    0 1142    8.00000    0.00000   100%     -   68s\n",
      "     3     8    0.00000    2 1181    8.00000    0.00000   100%  8175   77s\n",
      "    13    20    0.00000    4 1187    8.00000    0.00000   100%  3675   92s\n",
      "    19    26    0.00000    4 1178    8.00000    0.00000   100%  3532  103s\n",
      "    31    38    0.00000    6 1182    8.00000    0.00000   100%  2875  192s\n",
      "    49    68    0.00000    8 1174    8.00000    0.00000   100%  2283  207s\n",
      "H   67   110                       6.0000000    0.00000   100%  2149  233s\n",
      "   109   239    0.00000   13 1173    6.00000    0.00000   100%  1721  569s\n",
      "   238  1277    0.00000   26 1126    6.00000    0.00000   100%  1271  633s\n",
      "H  781  1277                       4.0000000    0.00000   100%   838  633s\n",
      "  1276  1284    0.00000  145  656    4.00000    0.00000   100%   752  725s\n",
      "  1283  1810    0.00000  146  649    4.00000    0.00000   100%   752  757s\n",
      "  2107  1863 infeasible  174         4.00000    0.00000   100%  1036  781s\n",
      "  2525  1864    0.00000   74 1142    4.00000    0.00000   100%  1092  785s\n",
      "  2527  1865    0.00000  170 1064    4.00000    0.00000   100%  1091  799s\n",
      "  2528  1866    0.00000  149 1167    4.00000    0.00000   100%  1091  802s\n",
      "  2529  1867    0.00000  105 1140    4.00000    0.00000   100%  1090  817s\n",
      "  2530  1867    0.00000   37 1113    4.00000    0.00000   100%  1090  823s\n",
      "  2531  1868    0.00000   24 1158    4.00000    0.00000   100%  1090  829s\n",
      "  2532  1869    0.00000  143 1143    4.00000    0.00000   100%  1089  838s\n",
      "  2533  1869    0.00000   82 1143    4.00000    0.00000   100%  1089  846s\n",
      "  2534  1873    0.00000   10 1143    4.00000    0.00000   100%  57.2  856s\n",
      "  2546  1885    0.00000   13 1177    4.00000    0.00000   100%  65.5  926s\n",
      "  2564  1897    0.00000   14 1177    4.00000    0.00000   100%  77.1 1008s\n",
      "  2594  1929    0.00000   17 1175    4.00000    0.00000   100%  84.7 1317s\n",
      "  2612  2079    0.00000   18 1168    4.00000    0.00000   100%  94.4 1350s\n",
      "H 2636  1977                       2.0000000    0.00000   100%   102 1350s\n",
      "  2768  2885    0.00000   31 1191    2.00000    0.00000   100%   128 1396s\n",
      "  3720  3271    0.00000  112  944    2.00000    0.00000   100%   269 1419s\n",
      "  4423  3281    0.00000  178  647    2.00000    0.00000   100%   320 1450s\n",
      "  4724  3364 infeasible  196         2.00000    0.00000   100%   377 1473s\n",
      "H 4959  1405                       0.0000000    0.00000  0.00%   431 1473s\n",
      "\n",
      "Cutting planes:\n",
      "  Clique: 9\n",
      "  MIR: 1\n",
      "  Flow cover: 12\n",
      "\n",
      "Explored 5033 nodes (5118427 simplex iterations) in 1473.69 seconds\n",
      "Thread count was 12 (of 12 available processors)\n",
      "\n",
      "Solution count 6: 0 2 4 ... 42\n",
      "\n",
      "Optimal solution found (tolerance 1.00e-04)\n",
      "Best objective 0.000000000000e+00, best bound 0.000000000000e+00, gap 0.0000%\n"
     ]
    }
   ],
   "source": [
    "model.setObjective( Pen )\n",
    "model.setParam(\"MIPFocus\",1)\n",
    "model.update()\n",
    "model.optimize()"
   ]
  },
  {
   "cell_type": "markdown",
   "metadata": {},
   "source": [
    "## Solution"
   ]
  },
  {
   "cell_type": "code",
   "execution_count": 66,
   "metadata": {
    "ExecuteTime": {
     "end_time": "2021-04-25T14:46:16.008162Z",
     "start_time": "2021-04-25T14:46:15.993247Z"
    }
   },
   "outputs": [
    {
     "name": "stdout",
     "output_type": "stream",
     "text": [
      "\n",
      "Time 0 : (1,0), (3,2), (5,4), \n",
      "Time 1 : (1,3), (2,5), (4,0), \n",
      "Time 2 : (0,5), (2,1), (3,4), \n",
      "Time 3 : (0,2), (4,1), (5,3), \n",
      "Time 4 : (1,5), (3,0), (4,2), \n",
      "Time 5 : (0,4), (2,3), (5,1), \n",
      "Time 6 : (1,4), (2,0), (3,5), \n",
      "Time 7 : (0,1), (4,3), (5,2), \n",
      "Time 8 : (0,3), (1,2), (4,5), \n",
      "Time 9 : (2,4), (3,1), (5,0), "
     ]
    }
   ],
   "source": [
    "timetable = {}\n",
    "for t in T:\n",
    "    print(f'\\nTime {t} : ', end=\"\")\n",
    "    for i in E:\n",
    "        for j in E:\n",
    "            if X_ijt[i,j,t].x == 1:\n",
    "                timetable.setdefault(t,[]).append((i,j))\n",
    "                print(f'({i},{j}), ', end=\"\")\n",
    "sol = SOLUTION(timetable)"
   ]
  },
  {
   "cell_type": "code",
   "execution_count": 67,
   "metadata": {
    "ExecuteTime": {
     "end_time": "2021-04-25T14:46:16.806946Z",
     "start_time": "2021-04-25T14:46:16.797123Z"
    }
   },
   "outputs": [],
   "source": [
    "fname = \"solutions/sol_\" + path.split(\"/\")[-1]\n",
    "sol.export(fname)"
   ]
  }
 ],
 "metadata": {
  "kernelspec": {
   "display_name": "Python 3",
   "language": "python",
   "name": "python3"
  },
  "language_info": {
   "codemirror_mode": {
    "name": "ipython",
    "version": 3
   },
   "file_extension": ".py",
   "mimetype": "text/x-python",
   "name": "python",
   "nbconvert_exporter": "python",
   "pygments_lexer": "ipython3",
   "version": "3.8.5"
  }
 },
 "nbformat": 4,
 "nbformat_minor": 4
}
