{
 "cells": [
  {
   "cell_type": "code",
   "execution_count": 1,
   "metadata": {
    "ExecuteTime": {
     "end_time": "2021-04-24T14:08:39.864193Z",
     "start_time": "2021-04-24T14:08:39.654465Z"
    }
   },
   "outputs": [],
   "source": [
    "import sys\n",
    "\n",
    "import gurobipy as gp\n",
    "from gurobipy import GRB, quicksum, multidict, tuplelist, tupledict, abs_, max_\n",
    "\n",
    "import pandas as pd\n",
    "\n",
    "from lxml import etree as et\n",
    "\n",
    "import pprint\n",
    "pp = pprint.PrettyPrinter(indent=4, compact=True)\n",
    "\n",
    "sys.path.insert(0,\"..\")\n",
    "from ITC21_parser import parseITC\n",
    "\n",
    "from solution import SOLUTION\n",
    "from lxml import etree as et\n",
    "\n",
    "%load_ext autoreload\n",
    "%autoreload 2"
   ]
  },
  {
   "cell_type": "code",
   "execution_count": 41,
   "metadata": {
    "ExecuteTime": {
     "end_time": "2021-04-24T14:12:39.235718Z",
     "start_time": "2021-04-24T14:12:39.224348Z"
    }
   },
   "outputs": [],
   "source": [
    "def export(filename, sol):\n",
    "    root = et.Element(\"Solution\")\n",
    "    meta_element = et.SubElement(root,\"MetaData\")\n",
    "    games_element = et.SubElement(root,\"Games\")\n",
    "    for t in sol.timetable:\n",
    "        for game in sol.timetable[t]:\n",
    "            g_element = et.SubElement(games_element,\"ScheduledMatch\")\n",
    "            g_element.attrib[\"home\"] = str(game[0])\n",
    "            g_element.attrib[\"away\"] = str(game[1])\n",
    "            g_element.attrib[\"slot\"] = str(t)\n",
    "    \n",
    "    root.getroottree().write(filename, xml_declaration=True, encoding=\"UTF-8\")"
   ]
  },
  {
   "cell_type": "code",
   "execution_count": 42,
   "metadata": {
    "ExecuteTime": {
     "end_time": "2021-04-24T14:12:39.383700Z",
     "start_time": "2021-04-24T14:12:39.373837Z"
    },
    "code_folding": []
   },
   "outputs": [],
   "source": [
    "path = \"../data/TestInstances_V3/ITC2021_Test1.xml\"\n",
    "# Parse ITC file\n",
    "Game_infos, Hard_constraints, Soft_constraints = parseITC(path)\n",
    "\n",
    "E, T, is_game_mode_phased = Game_infos[\"all_teams\"], Game_infos[\"all_slots\"],\\\n",
    "                            Game_infos[\"is_game_mode_phased\"]\n",
    "\n",
    "nb_teams = len(E)\n",
    "nb_slots = len(T)\n",
    "\n",
    "CA_Hard_constraints, GA_Hard_constraints, BR_Hard_constraints\\\n",
    "    , FA_Hard_constraints, SE_Hard_constraints = Hard_constraints[\"CA\"], Hard_constraints[\"GA\"],\\\n",
    "    Hard_constraints[\"BR\"], Hard_constraints[\"FA\"], Hard_constraints[\"SE\"]\n",
    "\n",
    "CA_Soft_constraints, GA_Soft_constraints, BR_Soft_constraints\\\n",
    "    , FA_Soft_constraints, SE_Soft_constraints = Soft_constraints[\"CA\"], Soft_constraints[\"GA\"],\\\n",
    "    Soft_constraints[\"BR\"], Soft_constraints[\"FA\"], Soft_constraints[\"SE\"]\n",
    "\n",
    "# Nb CA\n",
    "nb_CA1 = len(CA_Soft_constraints[\"CA1\"])\n",
    "nb_CA2 = len(CA_Soft_constraints[\"CA2\"])\n",
    "nb_CA3 = len(CA_Soft_constraints[\"CA3\"])\n",
    "nb_CA4 = len(CA_Soft_constraints[\"CA4\"])\n",
    "# Nb GA\n",
    "nb_GA = len(GA_Soft_constraints[\"GA1\"])\n",
    "# Nb BR\n",
    "nb_BR1 = len(BR_Soft_constraints[\"BR1\"])\n",
    "nb_BR2 = len(BR_Soft_constraints[\"BR2\"])\n",
    "# Nb FA\n",
    "nb_FA = len(FA_Soft_constraints[\"FA2\"])\n",
    "# Nb SE\n",
    "nb_SE = len(SE_Soft_constraints[\"SE1\"])"
   ]
  },
  {
   "cell_type": "code",
   "execution_count": 43,
   "metadata": {
    "ExecuteTime": {
     "end_time": "2021-04-24T14:12:39.530772Z",
     "start_time": "2021-04-24T14:12:39.519711Z"
    }
   },
   "outputs": [],
   "source": [
    "model = gp.Model(\"itcModel\")\n",
    "X_ijt = model.addVars(nb_teams, nb_teams, nb_slots, vtype=GRB.BINARY,  name=\"X_ijt\")\n",
    "\n",
    "BH_it = model.addVars(nb_teams, nb_slots, vtype = GRB.BINARY, name=\"BH_it\")\n",
    "BA_it = model.addVars(nb_teams, nb_slots, vtype = GRB.BINARY, name=\"BA_it\")"
   ]
  },
  {
   "cell_type": "code",
   "execution_count": 44,
   "metadata": {
    "ExecuteTime": {
     "end_time": "2021-04-24T14:12:39.670212Z",
     "start_time": "2021-04-24T14:12:39.655057Z"
    }
   },
   "outputs": [],
   "source": [
    "constrs = model.addConstrs( (quicksum( X_ijt[i,j,t-1] for j in E if j!=i) \\\n",
    "                + quicksum( X_ijt[i,j,t] for j in E if j!=i) - 1 <= BH_it[i,t]\\\n",
    "                for i in E for t in T[1:]), name=\"X-BH\")\n",
    "\n",
    "constrs = model.addConstrs( (quicksum( X_ijt[j,i,t-1] for j in E if j!=i) \\\n",
    "                + quicksum( X_ijt[j,i,t] for j in E if j!=i) - 1 <= BA_it[i,t]\\\n",
    "                for i in E for t in T[1:]), name=\"X-BA\")"
   ]
  },
  {
   "cell_type": "code",
   "execution_count": 45,
   "metadata": {
    "ExecuteTime": {
     "end_time": "2021-04-24T14:12:39.818731Z",
     "start_time": "2021-04-24T14:12:39.800351Z"
    }
   },
   "outputs": [],
   "source": [
    "# CA1 Penalties \n",
    "Pen_CA1 = model.addVars(nb_CA1,lb=0, vtype=GRB.INTEGER, name=\"Pen_CA1\")\n",
    "Pen_CA2 = model.addVars(nb_CA2, lb=0, vtype=GRB.INTEGER, name=\"Pen_CA2\")\n",
    "Pen_CA3 = model.addVars(nb_CA3, nb_slots, lb=0, vtype=GRB.INTEGER, name=\"Pen_CA3\")\n",
    "Pen_CA4 = model.addVars(nb_CA4, nb_slots, lb=0, vtype=GRB.INTEGER, name=\"Pen_CA4\")\n",
    "\n",
    "Pen_CA4_sum_g = model.addVar( lb=0, vtype=GRB.INTEGER, name=\"Pen_CA4_g\")\n",
    "Pen_CA4_sum_e = model.addVar( lb=0, vtype=GRB.INTEGER, name=\"Pen_CA4_e\")\n",
    "\n",
    "# GA Penalties\n",
    "Pen_GA = model.addVars(nb_GA, lb=0, vtype=GRB.INTEGER, name=\"Pen_GA\")\n",
    "# BR Penalties\n",
    "Pen_BR1 = model.addVars(nb_BR1, lb=0, vtype=GRB.INTEGER, name=\"Pen_BR1\")\n",
    "Pen_BR2 = model.addVars(nb_BR2, lb=0, vtype=GRB.INTEGER, name=\"Pen_BR2\")\n",
    "# FA penalties\n",
    "Pen_FA = model.addVars(nb_FA, nb_slots, lb=0, vtype=GRB.INTEGER, name=\"Pen_FA\")\n",
    "# SE penalties\n",
    "Pen_SE = []\n",
    "if len(SE_Soft_constraints[\"SE1\"]) > 0:\n",
    "    min_d_se = SE_Soft_constraints[\"SE1\"][0].min_d\n",
    "    Pen_SE = model.addVars(nb_SE, nb_slots + min_d_se, lb=0, vtype=GRB.BINARY, name=\"Pen_SE\")\n",
    "\n",
    "# All penalties\n",
    "Pen = model.addVar( lb=0, vtype=GRB.INTEGER, name=\"Pen\")\n",
    "\n",
    "constrs = model.addConstr( Pen_CA4_sum_g == quicksum( Pen_CA4[i,0] \\\n",
    "                for i in range(nb_CA4) if CA_Soft_constraints[\"CA4\"][i].mode_const == \"GLOBAL\"),name=\"CA4-g\")\n",
    "\n",
    "constrs = model.addConstr( Pen_CA4_sum_e == quicksum( Pen_CA4[i,o] for i in range(nb_CA4) if CA_Soft_constraints[\"CA4\"][i].mode_const == \"EVERY\"\\\n",
    "                for o in CA_Soft_constraints[\"CA4\"][i].slots ),name=\"CA4-e\")\n",
    "\n",
    "Pen_SE_g = model.addVars(nb_SE, lb=0, vtype=GRB.INTEGER, name=\"Pen_SE_g\")\n",
    "\n",
    "constrs = model.addConstrs( (Pen_SE_g[nb] >= SE_Soft_constraints[\"SE1\"][nb].penalty * \\\n",
    "                             ( quicksum( Pen_SE[nb,t] \\\n",
    "                                                                    for t in range(nb_slots + min_d_se)) )\n",
    "                             for nb in range(nb_SE)), name=\"SE_g\" )\n",
    "\n",
    "constrs = model.addConstr( Pen == Pen_CA1.sum(\"*\") + Pen_CA2.sum(\"*\") + Pen_CA3.sum(\"*\",\"*\") + Pen_CA4_sum_e +\\\n",
    "         Pen_CA4_sum_g + Pen_GA.sum(\"*\") + Pen_BR1.sum(\"*\") + Pen_BR2.sum(\"*\") + Pen_FA.sum(\"*\",\"*\") + \\\n",
    "                          Pen_SE_g.sum(\"*\"),\\\n",
    "                          name=\"C-Pen\")"
   ]
  },
  {
   "cell_type": "markdown",
   "metadata": {
    "ExecuteTime": {
     "end_time": "2021-04-17T21:31:39.204937Z",
     "start_time": "2021-04-17T21:31:39.196885Z"
    }
   },
   "source": [
    "# Constraints"
   ]
  },
  {
   "cell_type": "code",
   "execution_count": 46,
   "metadata": {
    "ExecuteTime": {
     "end_time": "2021-04-24T14:12:40.103121Z",
     "start_time": "2021-04-24T14:12:40.083741Z"
    },
    "code_folding": []
   },
   "outputs": [],
   "source": [
    "#### General constraints ####\n",
    "\n",
    "# C1 - Team conflict\n",
    "constrs = model.addConstrs( ( quicksum(X_ijt[i,j,t] for j in E if j != i) + \\\n",
    "                        quicksum(X_ijt[j,i,t] for j in E if j != i) == 1 for i in E for t in T), name=\"C1\" )\n",
    "\n",
    "# C2 - Team home games\n",
    "constrs = model.addConstrs( ( quicksum(X_ijt[i,j,t] for t in T) == 1 \\\n",
    "                             for i in E for j in E if i!=j ), name=\"C2\" )\n",
    "\n",
    "# C3 - Same Team conflict\n",
    "constrs = model.addConstrs( ( X_ijt[i,i,t] == 0 for i in E for t in T), name=\"C3\" )\n",
    "\n",
    "# C4 - Phased mode constraint\n",
    "if is_game_mode_phased:\n",
    "    middle = nb_slots // 2\n",
    "    constrs = model.addConstrs( ( quicksum(X_ijt[i,j,t] + X_ijt[j,i,t] for t in T[:middle]) <= 1\\\n",
    "                                for i in E for j in E if j != i), name=\"C4_H\")\n",
    "    constrs = model.addConstrs( ( quicksum(X_ijt[i,j,t] + X_ijt[j,i,t] for t in T[middle:]) <= 1\\\n",
    "                                for i in E for j in E if j != i), name=\"C4_A\")\n",
    "    \n",
    "# C5 - Number of games\n",
    "constrs = model.addConstrs( ( quicksum(X_ijt[i,j,t] for i in E for j in E) == nb_teams // 2 for t in T)\\\n",
    "                           , name=\"Nb_games\" )"
   ]
  },
  {
   "cell_type": "code",
   "execution_count": 47,
   "metadata": {
    "ExecuteTime": {
     "end_time": "2021-04-24T14:12:40.239410Z",
     "start_time": "2021-04-24T14:12:40.218417Z"
    },
    "code_folding": [
     0
    ]
   },
   "outputs": [],
   "source": [
    "#### Capacity constraints ####\n",
    "# CA1\n",
    "for ca1 in CA_Hard_constraints[\"CA1\"]:\n",
    "    i = ca1.team_id\n",
    "    T_c = ca1.slots\n",
    "    \n",
    "    if ca1.mode_game == \"H\":\n",
    "        constrs = model.addConstr( (quicksum( X_ijt[i,j,t] for j in E if j!= i for t in T_c) <= ca1.max_d \\\n",
    "                                   ), name=\"CA1_H\" )\n",
    "    elif ca1.mode_game == \"A\":\n",
    "        constrs = model.addConstr( (quicksum( X_ijt[j,i,t] for j in E if j!= i for t in T_c) <= ca1.max_d \\\n",
    "                                   ), name=\"CA1_A\" )\n",
    "        \n",
    "# CA2\n",
    "for ca2 in CA_Hard_constraints[\"CA2\"]:\n",
    "    i = ca2.team_1_id\n",
    "    T_c = ca2.slots\n",
    "    \n",
    "    if ca2.mode_game == \"H\":\n",
    "        constrs = model.addConstr( (quicksum( X_ijt[i,j,t] for j in ca2.teams_2_ids if j!=i for t in T_c)\\\n",
    "                                    <= ca2.max_d), name=\"CA2_H\" )\n",
    "    elif ca2.mode_game == \"A\":\n",
    "        constrs = model.addConstr( (quicksum( X_ijt[j,i,t] for j in ca2.teams_2_ids if j!=i for t in T_c)\\\n",
    "                                    <= ca2.max_d), name=\"CA2_A\" )\n",
    "    elif ca2.mode_game == \"HA\":\n",
    "        constrs = model.addConstr( (quicksum( X_ijt[j,i,t] + X_ijt[i,j,t] for j in ca2.teams_2_ids if j!= i\\\n",
    "                                             for t in T_c)<= ca2.max_d), name=\"CA2_HA\" )\n",
    "\n",
    "# CA3\n",
    "for ca3 in CA_Hard_constraints[\"CA3\"]:\n",
    "    i = ca3.team_1_id\n",
    "    \n",
    "    if ca3.mode_game == \"H\":\n",
    "        constrs = model.addConstrs( (quicksum( X_ijt[i,j,o] for j in ca3.teams_2_ids if j!=i \\\n",
    "                    for o in range(t, min(t+ca3.intp, nb_slots))) <= ca3.max_d  for t in T ), name=\"CA3_H\" )\n",
    "    elif ca3.mode_game == \"A\":\n",
    "        constrs = model.addConstrs( (quicksum( X_ijt[j,i,o] for j in ca3.teams_2_ids if j!=i \\\n",
    "                    for o in range(t, min(t+ca3.intp, nb_slots))) <= ca3.max_d  for t in T ), name=\"CA3_A\" )\n",
    "    elif ca3.mode_game == \"HA\":\n",
    "        constrs = model.addConstrs( (quicksum( X_ijt[j,i,o] + X_ijt[i,j,o] for j in ca3.teams_2_ids if j!=i \\\n",
    "                    for o in range(t, min(t+ca3.intp, nb_slots))) <= ca3.max_d  for t in T ), name=\"CA3_HA\" )\n",
    "\n",
    "# CA4\n",
    "for ca4 in CA_Hard_constraints[\"CA4\"]:\n",
    "    \n",
    "    T_c = ca4.slots\n",
    "    \n",
    "    if ca4.mode_const == \"GLOBAL\":\n",
    "        if ca4.mode_game == \"H\":\n",
    "            constrs = model.addConstr( (quicksum( X_ijt[i,j,t] for i in ca4.teams_1 for j in ca4.teams_2 \\\n",
    "                                            if j!=i for t in T_c) <= ca4.max_d), name=\"CA4_GH\" )\n",
    "        if ca4.mode_game == \"A\":\n",
    "            constrs = model.addConstr( (quicksum( X_ijt[j,i,t] for i in ca4.teams_1 for j in ca4.teams_2 \\\n",
    "                                            if j!=i for t in T_c) <= ca4.max_d), name=\"CA4_GA\" )\n",
    "        if ca4.mode_game == \"HA\":\n",
    "            constrs = model.addConstr( (quicksum( X_ijt[i,j,t] + X_ijt[j,i,t] for i in ca4.teams_1 \\\n",
    "                                for j in ca4.teams_2 if j!=i for t in T_c) <= ca4.max_d), name=\"CA4_GHA\" )\n",
    "        \n",
    "    elif ca4.mode_const == \"EVERY\":\n",
    "        if ca4.mode_game == \"H\":\n",
    "            constrs = model.addConstrs( (quicksum( X_ijt[i,j,t] for i in ca4.teams_1 \\\n",
    "                                for j in ca4.teams_2 if j!=i)<= ca4.max_d for t in T_c), name=\"CA4_EH\" )\n",
    "        if ca4.mode_game == \"A\":\n",
    "            constrs = model.addConstrs( (quicksum( X_ijt[j,i,t] for i in ca4.teams_1 \\\n",
    "                                for j in ca4.teams_2 if j!=i) <= ca4.max_d for t in T_c), name=\"CA4_EA\" )\n",
    "        if ca4.mode_game == \"HA\":\n",
    "            constrs = model.addConstrs( (quicksum( X_ijt[i,j,t] + X_ijt[j,i,t] for i in ca4.teams_1 \\\n",
    "                                for j in ca4.teams_2 if j!=i ) <= ca4.max_d for t in T_c), name=\"CA4_EHA\" )\n",
    "    "
   ]
  },
  {
   "cell_type": "code",
   "execution_count": 48,
   "metadata": {
    "ExecuteTime": {
     "end_time": "2021-04-24T14:12:40.390353Z",
     "start_time": "2021-04-24T14:12:40.372120Z"
    },
    "code_folding": [
     0
    ]
   },
   "outputs": [],
   "source": [
    "### Game constraints ###\n",
    "for ga in GA_Hard_constraints[\"GA1\"]:\n",
    "    T_c = ga.slots\n",
    "    constrs = model.addConstr( quicksum( X_ijt[i,j,t] for i,j in ga.games for t in T_c )\\\n",
    "                              <= ga.max_d, name=\"GA1_max\" )\n",
    "    constrs = model.addConstr( quicksum( X_ijt[i,j,t] for i,j in ga.games for t in T_c )\\\n",
    "                              >= ga.min_d, name=\"GA1_min\" )"
   ]
  },
  {
   "cell_type": "code",
   "execution_count": 49,
   "metadata": {
    "ExecuteTime": {
     "end_time": "2021-04-24T14:12:40.557886Z",
     "start_time": "2021-04-24T14:12:40.537375Z"
    },
    "code_folding": [
     0
    ]
   },
   "outputs": [],
   "source": [
    "### Break constraints ###\n",
    "for br1 in BR_Hard_constraints[\"BR1\"]:\n",
    "    i = br1.team_id\n",
    "    T_c = br1.slots\n",
    "    \n",
    "    if br1.mode_game == \"H\":\n",
    "        constrs = model.addConstr( quicksum( BH_it[i,t] for t in T_c) <= br1.intp , name=\"BR1_H\" )\n",
    "    elif br1.mode_game == \"A\":\n",
    "        constrs = model.addConstr( quicksum( BA_it[i,t] for t in T_c) <= br1.intp , name=\"BR1_A\" )\n",
    "    elif br1.mode_game == \"HA\":\n",
    "        constrs = model.addConstr( quicksum( BH_it[i,t] + BA_it[i,t] for t in T_c) <= br1.intp , name=\"BR1_HA\" )\n",
    "\n",
    "for br2 in BR_Hard_constraints[\"BR2\"]:\n",
    "    T_c = br2.slots\n",
    "\n",
    "    constrs = model.addConstr( quicksum( BH_it[i,t] + BA_it[i,t] for i in br2.teams for t in T_c)\\\n",
    "                                  <= br2.intp , name=\"BR2_HA\" )\n",
    "    "
   ]
  },
  {
   "cell_type": "code",
   "execution_count": 50,
   "metadata": {
    "ExecuteTime": {
     "end_time": "2021-04-24T14:12:40.704021Z",
     "start_time": "2021-04-24T14:12:40.691158Z"
    },
    "code_folding": [
     0
    ]
   },
   "outputs": [],
   "source": [
    "### Fairness constraints ###\n",
    "for fa in FA_Hard_constraints[\"FA2\"]:\n",
    "    T_c = fa.slots\n",
    "    i,j = fa.pair\n",
    "    \n",
    "    constrs = model.addConstrs((quicksum(X_ijt[i,k,o] for k in E if k!=i for o in range(0,t+1)) \\\n",
    "        - quicksum( X_ijt[j,k,o] for k in E if k!=j for o in range(0,t+1)) <= fa.intp for t in T),name=\"FA\" )"
   ]
  },
  {
   "cell_type": "code",
   "execution_count": 51,
   "metadata": {
    "ExecuteTime": {
     "end_time": "2021-04-24T14:12:40.852766Z",
     "start_time": "2021-04-24T14:12:40.842113Z"
    },
    "code_folding": [
     0
    ]
   },
   "outputs": [],
   "source": [
    "### Seperation constraints ###\n",
    "for se in SE_Hard_constraints[\"SE1\"]:\n",
    "    i,j = se.pair\n",
    "    constrs = model.addConstrs((quicksum( X_ijt[i,j,o] + X_ijt[j,i,o] \\\n",
    "                            for o in range(t, min(t+se.min_d+1, nb_slots))) <= 1 for t in T), name=\"SE\" )"
   ]
  },
  {
   "cell_type": "markdown",
   "metadata": {},
   "source": [
    "# Objective"
   ]
  },
  {
   "cell_type": "code",
   "execution_count": 52,
   "metadata": {
    "ExecuteTime": {
     "end_time": "2021-04-24T14:12:41.465253Z",
     "start_time": "2021-04-24T14:12:41.434367Z"
    },
    "code_folding": []
   },
   "outputs": [],
   "source": [
    "#### Capacity penalties ####\n",
    "# CA1\n",
    "for nb, ca1 in enumerate(CA_Soft_constraints[\"CA1\"]):\n",
    "    i = ca1.team_id\n",
    "    T_c = ca1.slots\n",
    "    penalty = ca1.penalty\n",
    "    \n",
    "    if ca1.mode_game == \"H\":\n",
    "        constrs = model.addConstr( Pen_CA1[nb] >= (quicksum( X_ijt[i,j,t] for j in E if j!= i for t in T_c) - \\\n",
    "                                         ca1.max_d) * penalty , name=\"CA1_H\" )\n",
    "    elif ca1.mode_game == \"A\":\n",
    "        constrs = model.addConstr( Pen_CA1[nb] >= (quicksum( X_ijt[j,i,t] for j in E if j!= i for t in T_c) - \\\n",
    "                                         ca1.max_d) * penalty, name=\"CA1_A\" )\n",
    "\n",
    "# CA2\n",
    "for nb, ca2 in enumerate(CA_Soft_constraints[\"CA2\"]):\n",
    "    i = ca2.team_1_id\n",
    "    T_c = ca2.slots\n",
    "    penalty = ca2.penalty\n",
    "    \n",
    "    if ca2.mode_game == \"H\":\n",
    "        constrs = model.addConstr(  Pen_CA2[nb] >= (quicksum( X_ijt[i,j,t] for j in ca2.teams_2_ids if j!=i for t in T_c)\\\n",
    "                                    - ca2.max_d) * penalty, name=\"CA2_H\" )\n",
    "    elif ca2.mode_game == \"A\":\n",
    "        constrs = model.addConstr( Pen_CA2[nb] >= (quicksum( X_ijt[j,i,t] for j in ca2.teams_2_ids if j!=i for t in T_c)\\\n",
    "                                    - ca2.max_d) * penalty, name=\"CA2_A\" )\n",
    "    elif ca2.mode_game == \"HA\":\n",
    "        constrs = model.addConstr( Pen_CA2[nb] >= (quicksum( X_ijt[j,i,t] + X_ijt[i,j,t] for j in ca2.teams_2_ids if j!= i\\\n",
    "                                        for t in T_c) - ca2.max_d) * penalty , name=\"CA2_HA\" )\n",
    "\n",
    "# CA3\n",
    "for nb, ca3 in enumerate(CA_Soft_constraints[\"CA3\"]):\n",
    "    i = ca3.team_1_id\n",
    "    penalty = ca3.penalty\n",
    "    \n",
    "    if ca3.mode_game == \"H\":\n",
    "        for t in T[:nb_slots - ca3.intp +1]:\n",
    "            constrs = model.addConstr( Pen_CA3[nb, t] >= (quicksum(X_ijt[i,j,o] for j in ca3.teams_2_ids if j!=i\\\n",
    "                    for o in range(t, min(t+ca3.intp, nb_slots))) - ca3.max_d) * penalty\\\n",
    "                                    , name=\"CA3_H\" )\n",
    "    \n",
    "    elif ca3.mode_game == \"A\":\n",
    "        for t in T[:nb_slots - ca3.intp +1]:\n",
    "            constrs = model.addConstr( Pen_CA3[nb, t] >= (quicksum(X_ijt[j,i,o] for j in ca3.teams_2_ids if j!=i\\\n",
    "                    for o in range(t, min(t+ca3.intp, nb_slots))) - ca3.max_d) * penalty\\\n",
    "                                    , name=\"CA3_A\" )\n",
    "    \n",
    "    elif ca3.mode_game == \"HA\":\n",
    "        for t in T[:nb_slots - ca3.intp +1]:\n",
    "            constrs = model.addConstr( Pen_CA3[nb, t] >= (quicksum(X_ijt[i,j,o] + X_ijt[j,i,o] for j in ca3.teams_2_ids if j!=i\\\n",
    "                    for o in range(t, min(t+ca3.intp, nb_slots))) - ca3.max_d) * penalty\\\n",
    "                                    , name=\"CA3_HA\" )\n",
    "\n",
    "# CA4\n",
    "for nb, ca4 in enumerate(CA_Soft_constraints[\"CA4\"]):\n",
    "    \n",
    "    T_c = ca4.slots\n",
    "    \n",
    "    if ca4.mode_const == \"GLOBAL\":\n",
    "        if ca4.mode_game == \"H\":\n",
    "            constrs = model.addConstr( Pen_CA4[nb,0] >= (quicksum( X_ijt[i,j,t] for i in ca4.teams_1 \\\n",
    "                                    for j in ca4.teams_2 if j!=i for t in T_c) - ca4.max_d) * penalty \\\n",
    "                                         , name=\"CA4_GH\" )\n",
    "        if ca4.mode_game == \"A\":\n",
    "            constrs = model.addConstr( Pen_CA4[nb,0] >= (quicksum( X_ijt[j,i,t] for i in ca4.teams_1 \\\n",
    "                                    for j in ca4.teams_2 if j!=i for t in T_c) - ca4.max_d) * penalty \\\n",
    "                                         , name=\"CA4_GH\" )\n",
    "        if ca4.mode_game == \"HA\":\n",
    "            constrs = model.addConstr( Pen_CA4[nb,0] >= (quicksum( X_ijt[i,j,t] + X_ijt[j,i,t]  \\\n",
    "                        for i in ca4.teams_1 for j in ca4.teams_2 if j!=i for t in T_c) - ca4.max_d) * penalty \\\n",
    "                                         , name=\"CA4_GH\" )\n",
    "        \n",
    "    elif ca4.mode_const == \"EVERY\":\n",
    "        if ca4.mode_game == \"H\":\n",
    "            for t in T_c:\n",
    "                constrs = model.addConstr( Pen_CA4[nb,t] >= (quicksum( X_ijt[i,j,t] for i in ca4.teams_1 \\\n",
    "                                for j in ca4.teams_2 if j!=i ) - ca4.max_d ) * penalty, name=\"CA4_EH\" )\n",
    "        if ca4.mode_game == \"A\":\n",
    "            for t in T_c:\n",
    "                constrs = model.addConstr( Pen_CA4[nb,t] >= (quicksum( X_ijt[j,i,t] for i in ca4.teams_1 \\\n",
    "                                for j in ca4.teams_2 if j!=i ) - ca4.max_d ) * penalty, name=\"CA4_EH\" )\n",
    "                \n",
    "        if ca4.mode_game == \"HA\":\n",
    "            for t in T_c:\n",
    "                constrs = model.addConstr( Pen_CA4[nb,t] >= (quicksum( X_ijt[i,j,t] + X_ijt[j,i,t] \\\n",
    "                    for i in ca4.teams_1 for j in ca4.teams_2 if j!=i ) - ca4.max_d ) * penalty, name=\"CA4_EH\" )"
   ]
  },
  {
   "cell_type": "code",
   "execution_count": 53,
   "metadata": {
    "ExecuteTime": {
     "end_time": "2021-04-24T14:12:42.031976Z",
     "start_time": "2021-04-24T14:12:42.020601Z"
    },
    "code_folding": [
     0
    ]
   },
   "outputs": [],
   "source": [
    "### Game penalty\n",
    "# GA1\n",
    "for nb, ga in enumerate(GA_Soft_constraints[\"GA1\"]):\n",
    "    T_c = ga.slots\n",
    "    penalty = ga.penalty\n",
    "    constrs = model.addConstr( Pen_GA[nb] >= penalty * (quicksum( X_ijt[i,j,t] for i,j in ga.games for t in T_c )\\\n",
    "                              - ga.max_d), name=\"GA1_max\" )\n",
    "    constrs = model.addConstr( Pen_GA[nb] >= penalty * (ga.min_d - quicksum( X_ijt[i,j,t] for i,j in ga.games \\\n",
    "                            for t in T_c )), name=\"GA1_min\" )"
   ]
  },
  {
   "cell_type": "code",
   "execution_count": 54,
   "metadata": {
    "ExecuteTime": {
     "end_time": "2021-04-24T14:12:42.416526Z",
     "start_time": "2021-04-24T14:12:42.402580Z"
    },
    "code_folding": []
   },
   "outputs": [],
   "source": [
    "### Break penalty\n",
    "# BR1\n",
    "for nb, br1 in enumerate(BR_Soft_constraints[\"BR1\"]):\n",
    "    #print(str(br1))\n",
    "    i = br1.team_id\n",
    "    T_c = br1.slots\n",
    "    penalty = br1.penalty\n",
    "    \n",
    "    if br1.mode_game == \"H\":\n",
    "        constrs = model.addConstr( Pen_BR1[nb] >= penalty * (quicksum( BH_it[i,t] for t in T_c) - br1.intp)\\\n",
    "                                  , name=\"BR1_H\" )\n",
    "    elif br1.mode_game == \"A\":\n",
    "        constrs = model.addConstr( Pen_BR1[nb] >= penalty * (quicksum( BA_it[i,t] for t in T_c) - br1.intp)\\\n",
    "                                  , name=\"BR1_A\" )\n",
    "    elif br1.mode_game == \"HA\":\n",
    "        constrs = model.addConstr( Pen_BR1[nb] >= penalty * (quicksum( BH_it[i,t] + BA_it[i,t] for t in T_c) \\\n",
    "                                  - br1.intp) , name=\"BR1_HA\" )\n",
    "\n",
    "# GA2\n",
    "for nb, br2 in enumerate(BR_Soft_constraints[\"BR2\"]):\n",
    "    T_c = br2.slots\n",
    "    penalty = br2.penalty\n",
    "    constrs = model.addConstr( Pen_BR2[nb] >= penalty * (quicksum( BH_it[i,t] + BA_it[i,t] for i in br2.teams\\\n",
    "                            for t in T_c) - br2.intp) , name=\"BR2_HA\" )"
   ]
  },
  {
   "cell_type": "code",
   "execution_count": 55,
   "metadata": {
    "ExecuteTime": {
     "end_time": "2021-04-24T14:12:42.877041Z",
     "start_time": "2021-04-24T14:12:42.864464Z"
    },
    "code_folding": []
   },
   "outputs": [],
   "source": [
    "### Fairness penalty ###\n",
    "# FA2\n",
    "for nb, fa in enumerate(FA_Soft_constraints[\"FA2\"]):\n",
    "    T_c = fa.slots\n",
    "    i,j = fa.pair\n",
    "    penalty = fa.penalty\n",
    "    \n",
    "    constrs = model.addConstrs( (Pen_FA[nb,t] >= penalty * (quicksum(X_ijt[i,k,o] for k in E if k!=i \\\n",
    "                                                                  for o in range(0,t+1)) \\\n",
    "        - quicksum( X_ijt[j,k,o] for k in E if k!=j for o in range(0,t+1)) - fa.intp) for t in T),name=\"FA\" )"
   ]
  },
  {
   "cell_type": "code",
   "execution_count": 56,
   "metadata": {
    "ExecuteTime": {
     "end_time": "2021-04-24T14:12:43.313459Z",
     "start_time": "2021-04-24T14:12:43.293266Z"
    },
    "code_folding": []
   },
   "outputs": [],
   "source": [
    "### Seperation constraints ###\n",
    "for nb, se in enumerate(SE_Soft_constraints[\"SE1\"]):\n",
    "    i,j = se.pair\n",
    "    penalty = se.penalty\n",
    "    \n",
    "    for t in range(se.min_d):\n",
    "        constrs = model.addConstr(Pen_SE[nb, t] >= quicksum( X_ijt[i,j,o] + X_ijt[j,i,o]   \\\n",
    "                            for o in range(0, t+1)) - 1 , name=\"Pen_SE1_abs1\")\n",
    "    for t in T:\n",
    "        constrs = model.addConstr(Pen_SE[nb, t + se.min_d] >=  quicksum( X_ijt[i,j,o] + X_ijt[j,i,o] \\\n",
    "                            for o in range(t, min(t+se.min_d+1, nb_slots)) ) - 1 , name=\"Pen_SE1_abs1\")"
   ]
  },
  {
   "cell_type": "code",
   "execution_count": 57,
   "metadata": {
    "ExecuteTime": {
     "end_time": "2021-04-24T14:12:44.612271Z",
     "start_time": "2021-04-24T14:12:43.892122Z"
    }
   },
   "outputs": [
    {
     "name": "stdout",
     "output_type": "stream",
     "text": [
      "Warning: linear constraint 346 and linear constraint 347 have the same name \"CA1_H\"\n",
      "Gurobi Optimizer version 9.1.1 build v9.1.1rc0 (linux64)\n",
      "Thread count: 6 physical cores, 12 logical processors, using up to 12 threads\n",
      "Optimize a model with 876 rows, 985 columns and 11348 nonzeros\n",
      "Model fingerprint: 0xc2bee0e8\n",
      "Variable types: 0 continuous, 985 integer (780 binary)\n",
      "Coefficient statistics:\n",
      "  Matrix range     [1e+00, 1e+01]\n",
      "  Objective range  [1e+00, 1e+00]\n",
      "  Bounds range     [1e+00, 1e+00]\n",
      "  RHS range        [1e+00, 2e+01]\n",
      "Presolve removed 404 rows and 412 columns\n",
      "Presolve time: 0.01s\n",
      "Presolved: 472 rows, 573 columns, 6156 nonzeros\n",
      "Variable types: 0 continuous, 573 integer (499 binary)\n",
      "\n",
      "Root relaxation: objective 1.053741e+03, 1481 iterations, 0.06 seconds\n",
      "\n",
      "    Nodes    |    Current Node    |     Objective Bounds      |     Work\n",
      " Expl Unexpl |  Obj  Depth IntInf | Incumbent    BestBd   Gap | It/Node Time\n",
      "\n",
      "     0     0 1053.74074    0  205          - 1053.74074      -     -    0s\n",
      "H    0     0                    1108.0000000 1053.74074  4.90%     -    0s\n",
      "     0     0 1054.32353    0  228 1108.00000 1054.32353  4.84%     -    0s\n",
      "     0     0 1055.20625    0  236 1108.00000 1055.20625  4.76%     -    0s\n",
      "     0     0 1055.20625    0  236 1108.00000 1055.20625  4.76%     -    0s\n",
      "     0     2 1055.20625    0  236 1108.00000 1055.20625  4.76%     -    0s\n",
      "*   59    60               7    1074.0000000 1056.35227  1.64%  94.9    0s\n",
      "*  245    83              12    1071.0000000 1057.88000  1.23%  58.3    0s\n",
      "H  309    99                    1070.0000000 1057.88000  1.13%  56.3    0s\n",
      "*  390    95               8    1068.0000000 1058.21933  0.92%  57.1    0s\n",
      "*  529    83              11    1066.0000000 1059.82524  0.58%  55.7    0s\n",
      "\n",
      "Cutting planes:\n",
      "  Gomory: 7\n",
      "  Clique: 7\n",
      "  MIR: 4\n",
      "  Zero half: 7\n",
      "  RLT: 2\n",
      "  Relax-and-lift: 5\n",
      "\n",
      "Explored 741 nodes (38294 simplex iterations) in 0.70 seconds\n",
      "Thread count was 12 (of 12 available processors)\n",
      "\n",
      "Solution count 6: 1066 1068 1070 ... 1108\n",
      "\n",
      "Optimal solution found (tolerance 1.00e-04)\n",
      "Best objective 1.066000000000e+03, best bound 1.066000000000e+03, gap 0.0000%\n"
     ]
    }
   ],
   "source": [
    "model.write(\"itcModel.lp\")\n",
    "\n",
    "model.setObjective( Pen )\n",
    "model.update()\n",
    "model.optimize()"
   ]
  },
  {
   "cell_type": "markdown",
   "metadata": {},
   "source": [
    "## Solution"
   ]
  },
  {
   "cell_type": "code",
   "execution_count": 489,
   "metadata": {
    "ExecuteTime": {
     "end_time": "2021-04-24T12:03:24.738266Z",
     "start_time": "2021-04-24T12:03:24.722157Z"
    }
   },
   "outputs": [
    {
     "name": "stdout",
     "output_type": "stream",
     "text": [
      "\n",
      "Time 0 : (2,0), (3,5), (4,1), \n",
      "Time 1 : (0,4), (3,1), (5,2), \n",
      "Time 2 : (0,3), (1,5), (2,4), \n",
      "Time 3 : (1,2), (4,3), (5,0), \n",
      "Time 4 : (0,1), (3,2), (5,4), \n",
      "Time 5 : (1,4), (2,5), (3,0), \n",
      "Time 6 : (2,1), (4,0), (5,3), \n",
      "Time 7 : (0,2), (3,4), (5,1), \n",
      "Time 8 : (1,0), (2,3), (4,5), \n",
      "Time 9 : (0,5), (1,3), (4,2), "
     ]
    }
   ],
   "source": [
    "timetable = {}\n",
    "for t in T:\n",
    "    print(f'\\nTime {t} : ', end=\"\")\n",
    "    for i in E:\n",
    "        for j in E:\n",
    "            if X_ijt[i,j,t].x == 1:\n",
    "                timetable.setdefault(t,[]).append((i,j))\n",
    "                print(f'({i},{j}), ', end=\"\")\n",
    "sol = SOLUTION(timetable)"
   ]
  },
  {
   "cell_type": "code",
   "execution_count": 455,
   "metadata": {
    "ExecuteTime": {
     "end_time": "2021-04-24T11:39:16.582245Z",
     "start_time": "2021-04-24T11:39:16.571858Z"
    }
   },
   "outputs": [],
   "source": [
    "fname = \"solutions/sol_\" + path.split(\"/\")[-1]\n",
    "export(fname,sol)"
   ]
  },
  {
   "cell_type": "code",
   "execution_count": 164,
   "metadata": {
    "ExecuteTime": {
     "end_time": "2021-04-22T11:43:15.230799Z",
     "start_time": "2021-04-22T11:43:15.213055Z"
    }
   },
   "outputs": [],
   "source": [
    "for i in range(nb_CA4):\n",
    "    if CA_Soft_constraints[\"CA4\"][i].mode_const == \"GLOBAL\":\n",
    "        if Pen_CA4[i,0].x > 0: \n",
    "            print( Pen_CA4[i,0].x, \"\\n\\n\\n\") # str()\n",
    "        \n",
    "    if CA_Soft_constraints[\"CA4\"][i].mode_const == \"EVERY\":\n",
    "        \n",
    "        for t in T:\n",
    "            if Pen_CA4[i,t].x > 0: \n",
    "                print( Pen_CA4[i,t].x, \"\\n\\n\") # str()"
   ]
  },
  {
   "cell_type": "code",
   "execution_count": 157,
   "metadata": {
    "ExecuteTime": {
     "end_time": "2021-04-24T10:58:30.265249Z",
     "start_time": "2021-04-24T10:58:30.253634Z"
    },
    "collapsed": true
   },
   "outputs": [
    {
     "name": "stdout",
     "output_type": "stream",
     "text": [
      "SE1: The pair (2, 0) must have at least 10 timeslots between their two games\n",
      "40.0\n",
      "SE1: The pair (2, 1) must have at least 10 timeslots between their two games\n",
      "80.0\n",
      "SE1: The pair (2, 4) must have at least 10 timeslots between their two games\n",
      "40.0\n",
      "SE1: The pair (2, 3) must have at least 10 timeslots between their two games\n",
      "70.0\n",
      "SE1: The pair (2, 5) must have at least 10 timeslots between their two games\n",
      "70.0\n",
      "SE1: The pair (0, 1) must have at least 10 timeslots between their two games\n",
      "70.0\n",
      "SE1: The pair (0, 4) must have at least 10 timeslots between their two games\n",
      "60.0\n",
      "SE1: The pair (0, 3) must have at least 10 timeslots between their two games\n",
      "80.0\n",
      "SE1: The pair (0, 5) must have at least 10 timeslots between their two games\n",
      "50.0\n",
      "SE1: The pair (1, 4) must have at least 10 timeslots between their two games\n",
      "60.0\n",
      "SE1: The pair (1, 3) must have at least 10 timeslots between their two games\n",
      "30.0\n",
      "SE1: The pair (1, 5) must have at least 10 timeslots between their two games\n",
      "60.0\n",
      "SE1: The pair (4, 3) must have at least 10 timeslots between their two games\n",
      "70.0\n",
      "SE1: The pair (4, 5) must have at least 10 timeslots between their two games\n",
      "70.0\n",
      "SE1: The pair (3, 5) must have at least 10 timeslots between their two games\n",
      "50.0\n"
     ]
    }
   ],
   "source": [
    "for nb in Pen_SE_g:\n",
    "    print(str(SE_Soft_constraints[\"SE1\"][nb]))\n",
    "    print(Pen_SE_g[nb].x)"
   ]
  },
  {
   "cell_type": "code",
   "execution_count": 159,
   "metadata": {
    "ExecuteTime": {
     "end_time": "2021-04-24T10:58:35.029107Z",
     "start_time": "2021-04-24T10:58:34.998396Z"
    },
    "collapsed": true
   },
   "outputs": [
    {
     "name": "stdout",
     "output_type": "stream",
     "text": [
      "SE1: The pair (2, 0) must have at least 10 timeslots between their two games\n",
      "0: 0.0\n",
      "1: 0.0\n",
      "2: 0.0\n",
      "3: 0.0\n",
      "4: 0.0\n",
      "5: 0.0\n",
      "6: 0.0\n",
      "7: 1.0\n",
      "8: 1.0\n",
      "9: 1.0\n",
      "10: 1.0\n",
      "11: 0.0\n",
      "12: 0.0\n",
      "13: 0.0\n",
      "14: 0.0\n",
      "15: 0.0\n",
      "16: 0.0\n",
      "17: 0.0\n",
      "18: 0.0\n",
      "19: 0.0\n",
      "SE1: The pair (2, 1) must have at least 10 timeslots between their two games\n",
      "0: 0.0\n",
      "1: 0.0\n",
      "2: 0.0\n",
      "3: 0.0\n",
      "4: 0.0\n",
      "5: 0.0\n",
      "6: 1.0\n",
      "7: 1.0\n",
      "8: 1.0\n",
      "9: 1.0\n",
      "10: 1.0\n",
      "11: 1.0\n",
      "12: 1.0\n",
      "13: 1.0\n",
      "14: 0.0\n",
      "15: 0.0\n",
      "16: 0.0\n",
      "17: 0.0\n",
      "18: 0.0\n",
      "19: 0.0\n",
      "SE1: The pair (2, 4) must have at least 10 timeslots between their two games\n",
      "0: 0.0\n",
      "1: 0.0\n",
      "2: 0.0\n",
      "3: 0.0\n",
      "4: 0.0\n",
      "5: 0.0\n",
      "6: 0.0\n",
      "7: 0.0\n",
      "8: 0.0\n",
      "9: 1.0\n",
      "10: 1.0\n",
      "11: 1.0\n",
      "12: 1.0\n",
      "13: 0.0\n",
      "14: 0.0\n",
      "15: 0.0\n",
      "16: 0.0\n",
      "17: 0.0\n",
      "18: 0.0\n",
      "19: 0.0\n",
      "SE1: The pair (2, 3) must have at least 10 timeslots between their two games\n",
      "0: 0.0\n",
      "1: 0.0\n",
      "2: 0.0\n",
      "3: 0.0\n",
      "4: 0.0\n",
      "5: 0.0\n",
      "6: 0.0\n",
      "7: 0.0\n",
      "8: 1.0\n",
      "9: 1.0\n",
      "10: 1.0\n",
      "11: 1.0\n",
      "12: 1.0\n",
      "13: 1.0\n",
      "14: 1.0\n",
      "15: 0.0\n",
      "16: 0.0\n",
      "17: 0.0\n",
      "18: 0.0\n",
      "19: 0.0\n",
      "SE1: The pair (2, 5) must have at least 10 timeslots between their two games\n",
      "0: 0.0\n",
      "1: 0.0\n",
      "2: 0.0\n",
      "3: 0.0\n",
      "4: 0.0\n",
      "5: 1.0\n",
      "6: 1.0\n",
      "7: 1.0\n",
      "8: 1.0\n",
      "9: 1.0\n",
      "10: 1.0\n",
      "11: 1.0\n",
      "12: 0.0\n",
      "13: 0.0\n",
      "14: 0.0\n",
      "15: 0.0\n",
      "16: 0.0\n",
      "17: 0.0\n",
      "18: 0.0\n",
      "19: 0.0\n",
      "SE1: The pair (0, 1) must have at least 10 timeslots between their two games\n",
      "0: 0.0\n",
      "1: 0.0\n",
      "2: 0.0\n",
      "3: 0.0\n",
      "4: 0.0\n",
      "5: 0.0\n",
      "6: 0.0\n",
      "7: 0.0\n",
      "8: 1.0\n",
      "9: 1.0\n",
      "10: 1.0\n",
      "11: 1.0\n",
      "12: 1.0\n",
      "13: 1.0\n",
      "14: 1.0\n",
      "15: 0.0\n",
      "16: 0.0\n",
      "17: 0.0\n",
      "18: 0.0\n",
      "19: 0.0\n",
      "SE1: The pair (0, 4) must have at least 10 timeslots between their two games\n",
      "0: 0.0\n",
      "1: 0.0\n",
      "2: 0.0\n",
      "3: 0.0\n",
      "4: 0.0\n",
      "5: 0.0\n",
      "6: 1.0\n",
      "7: 1.0\n",
      "8: 1.0\n",
      "9: 1.0\n",
      "10: 1.0\n",
      "11: 1.0\n",
      "12: 0.0\n",
      "13: 0.0\n",
      "14: 0.0\n",
      "15: 0.0\n",
      "16: 0.0\n",
      "17: 0.0\n",
      "18: 0.0\n",
      "19: 0.0\n",
      "SE1: The pair (0, 3) must have at least 10 timeslots between their two games\n",
      "0: 0.0\n",
      "1: 0.0\n",
      "2: 0.0\n",
      "3: 0.0\n",
      "4: 0.0\n",
      "5: 1.0\n",
      "6: 1.0\n",
      "7: 1.0\n",
      "8: 1.0\n",
      "9: 1.0\n",
      "10: 1.0\n",
      "11: 1.0\n",
      "12: 1.0\n",
      "13: 0.0\n",
      "14: 0.0\n",
      "15: 0.0\n",
      "16: 0.0\n",
      "17: 0.0\n",
      "18: 0.0\n",
      "19: 0.0\n",
      "SE1: The pair (0, 5) must have at least 10 timeslots between their two games\n",
      "0: 0.0\n",
      "1: 0.0\n",
      "2: 0.0\n",
      "3: 0.0\n",
      "4: 0.0\n",
      "5: 0.0\n",
      "6: 0.0\n",
      "7: 0.0\n",
      "8: 0.0\n",
      "9: 1.0\n",
      "10: 1.0\n",
      "11: 1.0\n",
      "12: 1.0\n",
      "13: 1.0\n",
      "14: 0.0\n",
      "15: 0.0\n",
      "16: 0.0\n",
      "17: 0.0\n",
      "18: 0.0\n",
      "19: 0.0\n",
      "SE1: The pair (1, 4) must have at least 10 timeslots between their two games\n",
      "0: 0.0\n",
      "1: 0.0\n",
      "2: 0.0\n",
      "3: 0.0\n",
      "4: 0.0\n",
      "5: 1.0\n",
      "6: 1.0\n",
      "7: 1.0\n",
      "8: 1.0\n",
      "9: 1.0\n",
      "10: 1.0\n",
      "11: 0.0\n",
      "12: 0.0\n",
      "13: 0.0\n",
      "14: 0.0\n",
      "15: 0.0\n",
      "16: 0.0\n",
      "17: 0.0\n",
      "18: 0.0\n",
      "19: 0.0\n",
      "SE1: The pair (1, 3) must have at least 10 timeslots between their two games\n",
      "0: 0.0\n",
      "1: 0.0\n",
      "2: 0.0\n",
      "3: 0.0\n",
      "4: 0.0\n",
      "5: 0.0\n",
      "6: 0.0\n",
      "7: 0.0\n",
      "8: 0.0\n",
      "9: 1.0\n",
      "10: 1.0\n",
      "11: 1.0\n",
      "12: 0.0\n",
      "13: 0.0\n",
      "14: 0.0\n",
      "15: 0.0\n",
      "16: 0.0\n",
      "17: 0.0\n",
      "18: 0.0\n",
      "19: 0.0\n",
      "SE1: The pair (1, 5) must have at least 10 timeslots between their two games\n",
      "0: 0.0\n",
      "1: 0.0\n",
      "2: 0.0\n",
      "3: 0.0\n",
      "4: 0.0\n",
      "5: 0.0\n",
      "6: 0.0\n",
      "7: 1.0\n",
      "8: 1.0\n",
      "9: 1.0\n",
      "10: 1.0\n",
      "11: 1.0\n",
      "12: 1.0\n",
      "13: 0.0\n",
      "14: 0.0\n",
      "15: 0.0\n",
      "16: 0.0\n",
      "17: 0.0\n",
      "18: 0.0\n",
      "19: 0.0\n",
      "SE1: The pair (4, 3) must have at least 10 timeslots between their two games\n",
      "0: 0.0\n",
      "1: 0.0\n",
      "2: 0.0\n",
      "3: 0.0\n",
      "4: 0.0\n",
      "5: 0.0\n",
      "6: 0.0\n",
      "7: 1.0\n",
      "8: 1.0\n",
      "9: 1.0\n",
      "10: 1.0\n",
      "11: 1.0\n",
      "12: 1.0\n",
      "13: 1.0\n",
      "14: 0.0\n",
      "15: 0.0\n",
      "16: 0.0\n",
      "17: 0.0\n",
      "18: 0.0\n",
      "19: 0.0\n",
      "SE1: The pair (4, 5) must have at least 10 timeslots between their two games\n",
      "0: 0.0\n",
      "1: 0.0\n",
      "2: 0.0\n",
      "3: 0.0\n",
      "4: 0.0\n",
      "5: 0.0\n",
      "6: 0.0\n",
      "7: 0.0\n",
      "8: 1.0\n",
      "9: 1.0\n",
      "10: 1.0\n",
      "11: 1.0\n",
      "12: 1.0\n",
      "13: 1.0\n",
      "14: 1.0\n",
      "15: 0.0\n",
      "16: 0.0\n",
      "17: 0.0\n",
      "18: 0.0\n",
      "19: 0.0\n",
      "SE1: The pair (3, 5) must have at least 10 timeslots between their two games\n",
      "0: 0.0\n",
      "1: 0.0\n",
      "2: 0.0\n",
      "3: 0.0\n",
      "4: 0.0\n",
      "5: 0.0\n",
      "6: 1.0\n",
      "7: 1.0\n",
      "8: 1.0\n",
      "9: 1.0\n",
      "10: 1.0\n",
      "11: 0.0\n",
      "12: 0.0\n",
      "13: 0.0\n",
      "14: 0.0\n",
      "15: 0.0\n",
      "16: 0.0\n",
      "17: 0.0\n",
      "18: 0.0\n",
      "19: 0.0\n"
     ]
    }
   ],
   "source": [
    "for nb in range(nb_SE):\n",
    "    print(str(SE_Soft_constraints[\"SE1\"][nb]))\n",
    "    for t in range(nb_slots + 10):\n",
    "        print(f'{t}: {Pen_SE[nb,t].x}')"
   ]
  },
  {
   "cell_type": "code",
   "execution_count": 239,
   "metadata": {
    "ExecuteTime": {
     "end_time": "2021-04-24T11:14:36.524929Z",
     "start_time": "2021-04-24T11:14:36.510733Z"
    }
   },
   "outputs": [
    {
     "name": "stdout",
     "output_type": "stream",
     "text": [
      "CA3 : Team 4 can play at most 2 A games against teams [5, 0, 3, 1, 2] in 4 consecutive slots 5.0\n",
      "CA3 : Team 2 can play at most 2 A games against teams [4, 5, 0, 3, 1] in 4 consecutive slots 5.0\n",
      "CA3 : Team 3 can play at most 2 HA games against teams [4, 5, 0, 1, 2] in 4 consecutive slots 70.0\n",
      "CA3 : Team 2 can play at most 2 HA games against teams [4, 5, 0, 3, 1] in 4 consecutive slots 70.0\n",
      "CA3 : Team 2 can play at most 2 A games against teams [4, 5, 0, 3, 1] in 4 consecutive slots 5.0\n",
      "CA3 : Team 2 can play at most 2 HA games against teams [4, 5, 0, 3, 1] in 4 consecutive slots 70.0\n",
      "CA3 : Team 4 can play at most 2 A games against teams [5, 0, 3, 1, 2] in 4 consecutive slots 5.0\n",
      "CA3 : Team 0 can play at most 2 H games against teams [4, 5, 3, 1, 2] in 4 consecutive slots 5.0\n",
      "CA3 : Team 3 can play at most 2 A games against teams [4, 5, 0, 1, 2] in 4 consecutive slots 5.0\n",
      "CA3 : Team 2 can play at most 2 H games against teams [4, 5, 0, 3, 1] in 4 consecutive slots 0.0\n",
      "CA3 : Team 1 can play at most 2 H games against teams [4, 5, 0, 3, 2] in 4 consecutive slots 5.0\n",
      "CA3 : Team 0 can play at most 2 H games against teams [4, 5, 3, 1, 2] in 4 consecutive slots 5.0\n",
      "CA3 : Team 2 can play at most 2 A games against teams [4, 5, 0, 3, 1] in 4 consecutive slots 5.0\n",
      "CA3 : Team 0 can play at most 2 A games against teams [4, 5, 3, 1, 2] in 4 consecutive slots 15.0\n",
      "CA3 : Team 5 can play at most 2 HA games against teams [4, 0, 3, 1, 2] in 4 consecutive slots 70.0\n",
      "CA3 : Team 1 can play at most 2 A games against teams [4, 5, 0, 3, 2] in 4 consecutive slots 0.0\n",
      "CA3 : Team 4 can play at most 2 A games against teams [5, 0, 3, 1, 2] in 4 consecutive slots 5.0\n",
      "CA3 : Team 1 can play at most 2 HA games against teams [4, 5, 0, 3, 2] in 4 consecutive slots 70.0\n",
      "CA3 : Team 5 can play at most 2 A games against teams [4, 0, 3, 1, 2] in 4 consecutive slots 0.0\n",
      "CA3 : Team 2 can play at most 2 HA games against teams [4, 5, 0, 3, 1] in 4 consecutive slots 70.0\n"
     ]
    }
   ],
   "source": [
    "for i in range(nb_CA3):\n",
    "    all_i = sum( Pen_CA3[i,t].x for t in T )\n",
    "    print(str(CA_Soft_constraints[\"CA3\"][i]), all_i)"
   ]
  }
 ],
 "metadata": {
  "kernelspec": {
   "display_name": "Python 3",
   "language": "python",
   "name": "python3"
  },
  "language_info": {
   "codemirror_mode": {
    "name": "ipython",
    "version": 3
   },
   "file_extension": ".py",
   "mimetype": "text/x-python",
   "name": "python",
   "nbconvert_exporter": "python",
   "pygments_lexer": "ipython3",
   "version": "3.8.5"
  }
 },
 "nbformat": 4,
 "nbformat_minor": 4
}
