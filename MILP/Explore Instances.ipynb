{
 "cells": [
  {
   "cell_type": "code",
   "execution_count": 1,
   "metadata": {
    "ExecuteTime": {
     "end_time": "2021-04-18T20:14:31.353460Z",
     "start_time": "2021-04-18T20:14:31.150664Z"
    }
   },
   "outputs": [],
   "source": [
    "import sys\n",
    "import os\n",
    "\n",
    "import pandas as pd\n",
    "\n",
    "from lxml import etree as et\n",
    "\n",
    "import pprint\n",
    "pp = pprint.PrettyPrinter(indent=4, compact=True)\n",
    "\n",
    "sys.path.insert(0,\"..\")\n",
    "from ITC21_parser import parseITC\n",
    "\n",
    "%load_ext autoreload\n",
    "%autoreload 2"
   ]
  },
  {
   "cell_type": "code",
   "execution_count": 2,
   "metadata": {
    "ExecuteTime": {
     "end_time": "2021-04-18T20:14:36.597949Z",
     "start_time": "2021-04-18T20:14:36.129157Z"
    }
   },
   "outputs": [
    {
     "name": "stdout",
     "output_type": "stream",
     "text": [
      "Reading file ITC2021_Middle_7.xml\n",
      "Reading file ITC2021_Middle_4.xml\n",
      "Reading file ITC2021_Middle_3.xml\n",
      "Reading file ITC2021_Middle_14.xml\n",
      "Reading file ITC2021_Middle_5.xml\n",
      "Reading file ITC2021_Middle_12.xml\n",
      "Reading file ITC2021_Middle_9.xml\n",
      "Reading file ITC2021_Middle_8.xml\n",
      "Reading file ITC2021_Middle_13.xml\n",
      "Reading file ITC2021_Middle_10.xml\n",
      "Reading file ITC2021_Middle_1.xml\n",
      "Reading file ITC2021_Middle_11.xml\n",
      "Reading file ITC2021_Middle_2.xml\n",
      "Reading file ITC2021_Middle_6.xml\n",
      "Reading file ITC2021_Middle_15.xml\n",
      "Reading file ITC2021_Early_3.xml\n",
      "Reading file ITC2021_Early_6.xml\n",
      "Reading file ITC2021_Early_10.xml\n",
      "Reading file ITC2021_Early_1.xml\n",
      "Reading file ITC2021_Early_13.xml\n",
      "Reading file ITC2021_Early_12.xml\n",
      "Reading file ITC2021_Early_7.xml\n",
      "Reading file ITC2021_Early_15.xml\n",
      "Reading file ITC2021_Early_9.xml\n",
      "Reading file ITC2021_Early_2.xml\n",
      "Reading file ITC2021_Early_11.xml\n",
      "Reading file ITC2021_Early_4.xml\n",
      "Reading file ITC2021_Early_5.xml\n",
      "Reading file ITC2021_Early_8.xml\n",
      "Reading file ITC2021_Early_14.xml\n",
      "Reading file TestInstanceDemo.xml\n",
      "Reading file ITC2021_Test7.xml\n",
      "Reading file ITC2021_Test2.xml\n",
      "Reading file ITC2021_Test8.xml\n",
      "Reading file ITC2021_Test5.xml\n",
      "Reading file ITC2021_Test3.xml\n",
      "Reading file ITC2021_Test6.xml\n",
      "Reading file ITC2021_Test1.xml\n",
      "Reading file ITC2021_Test4.xml\n",
      "Reading file ITC2021_Late_15.xml\n",
      "Reading file ITC2021_Late_12.xml\n",
      "Reading file ITC2021_Late_9.xml\n",
      "Reading file ITC2021_Late_11.xml\n",
      "Reading file ITC2021_Late_5.xml\n",
      "Reading file ITC2021_Late_1.xml\n",
      "Reading file ITC2021_Late_3.xml\n",
      "Reading file ITC2021_Late_10.xml\n",
      "Reading file ITC2021_Late_13.xml\n",
      "Reading file ITC2021_Late_2.xml\n",
      "Reading file ITC2021_Late_8.xml\n",
      "Reading file ITC2021_Late_4.xml\n",
      "Reading file ITC2021_Late_7.xml\n",
      "Reading file ITC2021_Late_14.xml\n",
      "Reading file ITC2021_Late_6.xml\n"
     ]
    }
   ],
   "source": [
    "rootPath = \"../data/\"\n",
    "\n",
    "all_instances_data = []\n",
    "\n",
    "for root, dirs, files in os.walk(rootPath):\n",
    "\n",
    "    for f in files:\n",
    "        \n",
    "        instance_data = {}\n",
    "        instance_data[\"Instance name\"] = f\n",
    "        \n",
    "        print(f'Reading file {f}')\n",
    "        \n",
    "        Game_infos, Hard_constraints, Soft_constraints = parseITC(root+'/'+f)\n",
    "        \n",
    "        for const_family in Hard_constraints:\n",
    "            \n",
    "            for const_key in Hard_constraints[const_family]:\n",
    "                \n",
    "                instance_data[ \"Hard_\" + const_key] = len( Hard_constraints[const_family][const_key] )\n",
    "        \n",
    "        for const_family in Soft_constraints:\n",
    "            \n",
    "            for const_key in Soft_constraints[const_family]:\n",
    "                \n",
    "                instance_data[ \"Soft_\" + const_key] = len( Soft_constraints[const_family][const_key] )\n",
    "            \n",
    "        all_instances_data.append(instance_data)\n",
    "\n",
    "df = pd.DataFrame( all_instances_data )"
   ]
  },
  {
   "cell_type": "code",
   "execution_count": 3,
   "metadata": {
    "ExecuteTime": {
     "end_time": "2021-04-18T20:14:40.104530Z",
     "start_time": "2021-04-18T20:14:40.057663Z"
    }
   },
   "outputs": [],
   "source": [
    "df.to_excel(\"Instances_infos.xls\")"
   ]
  },
  {
   "cell_type": "code",
   "execution_count": null,
   "metadata": {},
   "outputs": [],
   "source": []
  }
 ],
 "metadata": {
  "kernelspec": {
   "display_name": "Python 3",
   "language": "python",
   "name": "python3"
  },
  "language_info": {
   "codemirror_mode": {
    "name": "ipython",
    "version": 3
   },
   "file_extension": ".py",
   "mimetype": "text/x-python",
   "name": "python",
   "nbconvert_exporter": "python",
   "pygments_lexer": "ipython3",
   "version": "3.8.5"
  }
 },
 "nbformat": 4,
 "nbformat_minor": 4
}
