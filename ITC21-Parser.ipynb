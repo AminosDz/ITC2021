{
 "cells": [
  {
   "cell_type": "code",
   "execution_count": 81,
   "metadata": {
    "ExecuteTime": {
     "end_time": "2021-04-10T13:29:34.367807Z",
     "start_time": "2021-04-10T13:29:34.356484Z"
    }
   },
   "outputs": [
    {
     "name": "stdout",
     "output_type": "stream",
     "text": [
      "The autoreload extension is already loaded. To reload it, use:\n",
      "  %reload_ext autoreload\n"
     ]
    }
   ],
   "source": [
    "%load_ext autoreload\n",
    "%autoreload 2\n",
    "\n",
    "from lxml import etree as et\n",
    "from datetime import datetime, timedelta\n",
    "import pprint\n",
    "\n",
    "from Capacity_constraints import CA1, CA2, CA3, CA4\n",
    "\n",
    "pp = pprint.PrettyPrinter(indent=4, compact=True)\n",
    "\n",
    "root = et.parse(\"data/TestInstances_V3/ITC2021_Test6.xml\")"
   ]
  },
  {
   "cell_type": "code",
   "execution_count": 82,
   "metadata": {
    "ExecuteTime": {
     "end_time": "2021-04-10T13:29:35.149663Z",
     "start_time": "2021-04-10T13:29:35.142108Z"
    }
   },
   "outputs": [],
   "source": [
    "def parseTeams(root):\n",
    "    nb_teams = len(root.findall(\".//Teams/team\"))\n",
    "    nb_slots = len(root.findall(\".//Slots/slot\"))\n",
    "\n",
    "    is_game_mode_phased = True if root.find(\".//gameMode\").text == \"P\" else False\n",
    "\n",
    "    all_teams = list(range(nb_teams))\n",
    "    all_slots = list(range(nb_slots))\n",
    "    \n",
    "    return all_slots, all_teams, is_game_mode_phased"
   ]
  },
  {
   "cell_type": "code",
   "execution_count": 83,
   "metadata": {
    "ExecuteTime": {
     "end_time": "2021-04-10T13:29:35.852393Z",
     "start_time": "2021-04-10T13:29:35.842236Z"
    }
   },
   "outputs": [],
   "source": [
    "all_slots, all_teams, is_game_mode_phased = parseTeams(root)"
   ]
  },
  {
   "cell_type": "code",
   "execution_count": 88,
   "metadata": {
    "ExecuteTime": {
     "end_time": "2021-04-10T13:30:05.665185Z",
     "start_time": "2021-04-10T13:30:05.651167Z"
    }
   },
   "outputs": [],
   "source": [
    "def parseCapacityConstraints(root):\n",
    "    \n",
    "    Hard_constraints = {\"CA1\": [], \"CA2\": [], \"CA3\": [], \"CA4\": []}\n",
    "    Soft_constraints = {\"CA1\": [], \"CA2\": [], \"CA3\": [], \"CA4\": []}\n",
    "\n",
    "    for CA1_element in root.findall(\".//CapacityConstraints/CA1\"):\n",
    "    \n",
    "        team_id = CA1_element.get(\"teams\")\n",
    "        slots = list(map(int,CA1_element.get(\"slots\").split(\";\")))\n",
    "        mode_game = CA1_element.get(\"mode\")\n",
    "        min_d = CA1_element.get(\"min\") if CA1_element.get(\"min\") is not None else 0\n",
    "        max_d = CA1_element.get(\"max\")\n",
    "        const_type = CA1_element.get(\"type\")\n",
    "    \n",
    "        const = CA1(team_id,slots,mode_game,min_d, max_d)\n",
    "\n",
    "        if const_type == \"HARD\":\n",
    "            Hard_constraints[\"CA1\"].append(const)\n",
    "        else:\n",
    "            Soft_constraints[\"CA1\"].append(const)\n",
    "        \n",
    "    for CA2_element in root.findall(\".//CapacityConstraints/CA2\"):\n",
    "    \n",
    "        team_1_id = CA2_element.get(\"teams1\")\n",
    "        team_2_id = CA2_element.get(\"teams2\")\n",
    "        slots = list(map(int,CA2_element.get(\"slots\").split(\";\")))\n",
    "        mode_game = CA2_element.get(\"mode\")\n",
    "        min_d = CA2_element.get(\"min\") if CA2_element.get(\"min\") is not None else 0\n",
    "        max_d = CA2_element.get(\"max\")\n",
    "        const_type = CA2_element.get(\"type\")\n",
    "    \n",
    "        const = CA2(team_1_id, team_2_id, slots, mode_game, min_d, max_d)\n",
    "\n",
    "        if const_type == \"HARD\":\n",
    "            Hard_constraints[\"CA2\"].append(const)\n",
    "        else:\n",
    "            Soft_constraints[\"CA2\"].append(const)\n",
    "    \n",
    "    for CA3_element in root.findall(\".//CapacityConstraints/CA3\"):\n",
    "    \n",
    "        team_1_id = CA3_element.get(\"teams1\")\n",
    "        team_2_id = CA3_element.get(\"teams2\")\n",
    "        mode_game = CA3_element.get(\"mode\")\n",
    "        intp = CA3_element.get(\"intp\")\n",
    "        const_type = CA3_element.get(\"type\")\n",
    "    \n",
    "        const = CA3(team_1_id, team_2_id, mode_game, intp)\n",
    "\n",
    "        if const_type == \"HARD\":\n",
    "            Hard_constraints[\"CA3\"].append(const)\n",
    "        else:\n",
    "            Soft_constraints[\"CA3\"].append(const)\n",
    "    \n",
    "    for CA4_element in root.findall(\".//CapacityConstraints/CA4\"):\n",
    "    \n",
    "        teams_1 = list(map(int,CA4_element.get(\"teams1\").split(\";\")))\n",
    "        teams_2 = list(map(int,CA4_element.get(\"teams2\").split(\";\")))\n",
    "        slots = list(map(int,CA4_element.get(\"slots\").split(\";\")))\n",
    "        mode_game = CA4_element.get(\"mode1\")\n",
    "        mode_const = CA4_element.get(\"mode2\")\n",
    "        min_d = CA4_element.get(\"min\") if CA4_element.get(\"min\") is not None else 0\n",
    "        max_d = CA4_element.get(\"max\")\n",
    "        const_type = CA4_element.get(\"type\")\n",
    "    \n",
    "        const = CA4(teams_1, teams_2, slots, mode_game, mode_const, min_d, max_d)\n",
    "\n",
    "        if const_type == \"HARD\":\n",
    "            Hard_constraints[\"CA4\"].append(const)\n",
    "        else:\n",
    "            Soft_constraints[\"CA4\"].append(const)\n",
    "    \n",
    "    return CA_Hard_constraints, CA_Soft_constraints\n"
   ]
  },
  {
   "cell_type": "code",
   "execution_count": 89,
   "metadata": {
    "ExecuteTime": {
     "end_time": "2021-04-10T13:30:06.163236Z",
     "start_time": "2021-04-10T13:30:06.149369Z"
    }
   },
   "outputs": [],
   "source": [
    "CA_Hard_constraints, CA_Soft_constraints = parseCapacityConstraints(root)"
   ]
  },
  {
   "cell_type": "code",
   "execution_count": null,
   "metadata": {},
   "outputs": [],
   "source": []
  }
 ],
 "metadata": {
  "kernelspec": {
   "display_name": "Python 3",
   "language": "python",
   "name": "python3"
  },
  "language_info": {
   "codemirror_mode": {
    "name": "ipython",
    "version": 3
   },
   "file_extension": ".py",
   "mimetype": "text/x-python",
   "name": "python",
   "nbconvert_exporter": "python",
   "pygments_lexer": "ipython3",
   "version": "3.8.5"
  }
 },
 "nbformat": 4,
 "nbformat_minor": 4
}
